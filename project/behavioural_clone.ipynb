{
 "cells": [
  {
   "cell_type": "markdown",
   "metadata": {},
   "source": [
    "# Behavioural clone\n",
    "\n",
    "Given multiple replays of expert trajectorys \\[(s_1, a_1), (s_2, a_2), ...\\]  \n",
    "use a neural network to predict the 'a' actions from the 's' states."
   ]
  },
  {
   "cell_type": "code",
   "execution_count": 1,
   "metadata": {},
   "outputs": [],
   "source": [
    "# PARAMS\n",
    "EXPERT_PLAYER_IDX = 0\n",
    "USE_GPU = False\n",
    "\n",
    "GAMES = [{\"id\": gameID} for gameID in [\"noBoost1v1_1\", \"noBoost1v1_2\", \"noBoost1v1_3\"]]\n",
    "\n",
    "# NOTE: can't use __file__ in jupyter notebook unfortunately, so hard-code it insteadL\n",
    "ROOT_PROJECT_PATH = 'C:/Users/User/code/CPSC533V/project'"
   ]
  },
  {
   "cell_type": "code",
   "execution_count": 2,
   "metadata": {},
   "outputs": [],
   "source": [
    "import math\n",
    "import matplotlib.pyplot as plt\n",
    "import numpy as np\n",
    "import os\n",
    "import pandas as pd\n",
    "import random\n",
    "import sys\n",
    "from tqdm.notebook import tqdm\n",
    "\n",
    "import torch\n",
    "import torch.nn as nn\n",
    "import torch.nn.functional as F\n",
    "from torch.utils.tensorboard import SummaryWriter\n",
    "DEVICE = torch.device(\"cuda\" if USE_GPU else \"cpu\")\n",
    "\n",
    "# Load local reusable code within 'lib/'\n",
    "sys.path.append(ROOT_PROJECT_PATH)\n",
    "import lib.files as libFiles\n",
    "import lib.preprocess as libPreprocess\n",
    "from lib.StoAModel import StoA_Model\n",
    "\n",
    "%matplotlib inline\n",
    "plt.rcParams['figure.figsize'] = (16, 10)"
   ]
  },
  {
   "cell_type": "code",
   "execution_count": 3,
   "metadata": {},
   "outputs": [
    {
     "data": {
      "application/javascript": [
       "IPython.OutputArea.prototype._should_scroll = function(lines) {\n",
       "    return false;\n",
       "}\n"
      ],
      "text/plain": [
       "<IPython.core.display.Javascript object>"
      ]
     },
     "metadata": {},
     "output_type": "display_data"
    }
   ],
   "source": [
    "%%javascript\n",
    "IPython.OutputArea.prototype._should_scroll = function(lines) {\n",
    "    return false;\n",
    "}"
   ]
  },
  {
   "cell_type": "markdown",
   "metadata": {},
   "source": [
    "## Parse the games from .replay files"
   ]
  },
  {
   "cell_type": "code",
   "execution_count": 4,
   "metadata": {},
   "outputs": [
    {
     "name": "stdout",
     "output_type": "stream",
     "text": [
      "Loading...\n",
      "\treplays\\noBoost1v1_1.replay\n"
     ]
    },
    {
     "name": "stderr",
     "output_type": "stream",
     "text": [
      "Could not find field_of_view in camera settings for Sundown\n",
      "Could not find height in camera settings for Sundown\n",
      "Could not find pitch in camera settings for Sundown\n",
      "Could not find distance in camera settings for Sundown\n",
      "Could not find stiffness in camera settings for Sundown\n",
      "Could not find swivel_speed in camera settings for Sundown\n",
      "Could not find transition_speed in camera settings for Sundown\n",
      "D:/projects/carball\\carball\\controls\\rotations.py:87: RuntimeWarning: invalid value encountered in sign\n",
      "  rhs[1] / (T_p + np.sign(rhs[1]) * omega[1] * D_p),\n",
      "D:/projects/carball\\carball\\controls\\rotations.py:88: RuntimeWarning: invalid value encountered in sign\n",
      "  rhs[2] / (T_y - np.sign(rhs[2]) * omega[2] * D_y)\n"
     ]
    },
    {
     "name": "stdout",
     "output_type": "stream",
     "text": [
      "2 players loaded!\n",
      "\n",
      "Orange team:\n",
      "\tbot\n",
      "\n",
      "Blue team:\n",
      "\texpert\n",
      "\n",
      "12921 data points acquired\n",
      "====\n",
      "\n",
      "\n",
      "Loading...\n",
      "\treplays\\noBoost1v1_2.replay\n"
     ]
    },
    {
     "name": "stderr",
     "output_type": "stream",
     "text": [
      "Could not find field_of_view in camera settings for Beast\n",
      "Could not find height in camera settings for Beast\n",
      "Could not find pitch in camera settings for Beast\n",
      "Could not find distance in camera settings for Beast\n",
      "Could not find stiffness in camera settings for Beast\n",
      "Could not find swivel_speed in camera settings for Beast\n",
      "Could not find transition_speed in camera settings for Beast\n"
     ]
    },
    {
     "name": "stdout",
     "output_type": "stream",
     "text": [
      "2 players loaded!\n",
      "\n",
      "Orange team:\n",
      "\tbot\n",
      "\n",
      "Blue team:\n",
      "\texpert\n",
      "\n",
      "12016 data points acquired\n",
      "====\n",
      "\n",
      "\n",
      "Loading...\n",
      "\treplays\\noBoost1v1_3.replay\n"
     ]
    },
    {
     "name": "stderr",
     "output_type": "stream",
     "text": [
      "Could not find field_of_view in camera settings for Middy\n",
      "Could not find height in camera settings for Middy\n",
      "Could not find pitch in camera settings for Middy\n",
      "Could not find distance in camera settings for Middy\n",
      "Could not find stiffness in camera settings for Middy\n",
      "Could not find swivel_speed in camera settings for Middy\n",
      "Could not find transition_speed in camera settings for Middy\n"
     ]
    },
    {
     "name": "stdout",
     "output_type": "stream",
     "text": [
      "2 players loaded!\n",
      "\n",
      "Orange team:\n",
      "\tbot\n",
      "\n",
      "Blue team:\n",
      "\texpert\n",
      "\n",
      "12682 data points acquired\n",
      "====\n",
      "\n",
      "\n"
     ]
    }
   ],
   "source": [
    "for game in GAMES:\n",
    "    game['data'] = libFiles.parseReplayToGameData(game['id'])\n",
    "    libFiles.cleanAndDisplayGameData(game['data'])"
   ]
  },
  {
   "cell_type": "code",
   "execution_count": 5,
   "metadata": {},
   "outputs": [
    {
     "name": "stdout",
     "output_type": "stream",
     "text": [
      "Player values recorded:\n",
      " * ping\n",
      " * pos_x\n",
      " * pos_y\n",
      " * pos_z\n",
      " * rot_x\n",
      " * rot_y\n",
      " * rot_z\n",
      " * vel_x\n",
      " * vel_y\n",
      " * vel_z\n",
      " * ang_vel_x\n",
      " * ang_vel_y\n",
      " * ang_vel_z\n",
      " * throttle\n",
      " * steer\n",
      " * handbrake\n",
      " * ball_cam\n",
      " * boost\n",
      " * boost_active\n",
      " * jump_active\n",
      " * double_jump_active\n",
      " * dodge_active\n",
      " * boost_collect\n",
      "\n",
      "Ball values recorded:\n",
      " * pos_x\n",
      " * pos_y\n",
      " * pos_z\n",
      " * rot_x\n",
      " * rot_y\n",
      " * rot_z\n",
      " * vel_x\n",
      " * vel_y\n",
      " * vel_z\n",
      " * ang_vel_x\n",
      " * ang_vel_y\n",
      " * ang_vel_z\n",
      " * hit_team_no\n"
     ]
    }
   ],
   "source": [
    "# For debugging purposes, check the values loaded:\n",
    "print (\"Player values recorded:\")\n",
    "for pp in list(GAMES[0]['data'].players[0].data):\n",
    "    print (\" * \" + pp)\n",
    "    \n",
    "print (\"\\nBall values recorded:\")\n",
    "for bp in list(GAMES[0]['data'].ball):\n",
    "    print (\" * \" + bp)"
   ]
  },
  {
   "cell_type": "markdown",
   "metadata": {},
   "source": [
    "## Preprocess all loaded data\n",
    "\n",
    "Keep only needed values, fill in missing ones, and normalize all ranges."
   ]
  },
  {
   "cell_type": "code",
   "execution_count": 6,
   "metadata": {},
   "outputs": [
    {
     "name": "stdout",
     "output_type": "stream",
     "text": [
      "Game data from 'noBoost1v1_1' preprocessed.\n",
      "    ... clean data available at 'playerStates', 'playerActions' and 'ballStates' keys\n",
      "\n",
      "Game data from 'noBoost1v1_2' preprocessed.\n",
      "    ... clean data available at 'playerStates', 'playerActions' and 'ballStates' keys\n",
      "\n",
      "Game data from 'noBoost1v1_3' preprocessed.\n",
      "    ... clean data available at 'playerStates', 'playerActions' and 'ballStates' keys\n",
      "\n"
     ]
    }
   ],
   "source": [
    "for game in GAMES:\n",
    "    gameData = game['data']\n",
    "    \n",
    "    game['playerStates'], game['playerActions'] = [], []\n",
    "    for p in gameData.players:\n",
    "        game['playerStates' ].append(libPreprocess.cleanPlayerStates( p.data    ))\n",
    "        game['playerActions'].append(libPreprocess.cleanPlayerActions(p.controls))\n",
    "    game['ballStates'] = libPreprocess.cleanBallStates(gameData.ball)\n",
    "    print (\"Game data from '%s' preprocessed.\" % game['id'])\n",
    "    print (\"    ... clean data available at 'playerStates', 'playerActions' and 'ballStates' keys\\n\")\n",
    "    "
   ]
  },
  {
   "cell_type": "markdown",
   "metadata": {},
   "source": [
    "## Distrubutions of values\n",
    "\n",
    "Histogram for the distribution of values of each state and columns"
   ]
  },
  {
   "cell_type": "code",
   "execution_count": 7,
   "metadata": {},
   "outputs": [
    {
     "name": "stdout",
     "output_type": "stream",
     "text": [
      "Player states:\n"
     ]
    },
    {
     "data": {
      "image/png": "[encoded data removed]",
      "text/plain": [
       "<Figure size 1080x360 with 3 Axes>"
      ]
     },
     "metadata": {
      "needs_background": "light"
     },
     "output_type": "display_data"
    },
    {
     "data": {
      "image/png": "[encoded data removed]",
      "text/plain": [
       "<Figure size 1080x360 with 3 Axes>"
      ]
     },
     "metadata": {
      "needs_background": "light"
     },
     "output_type": "display_data"
    },
    {
     "data": {
      "image/png": "[encoded data removed]",
      "text/plain": [
       "<Figure size 1080x360 with 3 Axes>"
      ]
     },
     "metadata": {
      "needs_background": "light"
     },
     "output_type": "display_data"
    },
    {
     "data": {
      "image/png": "[encoded data removed]",
      "text/plain": [
       "<Figure size 1080x360 with 3 Axes>"
      ]
     },
     "metadata": {
      "needs_background": "light"
     },
     "output_type": "display_data"
    },
    {
     "data": {
      "image/png": "[encoded data removed]",
      "text/plain": [
       "<Figure size 1080x360 with 3 Axes>"
      ]
     },
     "metadata": {
      "needs_background": "light"
     },
     "output_type": "display_data"
    },
    {
     "name": "stdout",
     "output_type": "stream",
     "text": [
      "Player actions:\n"
     ]
    },
    {
     "data": {
      "image/png": "[encoded data removed]",
      "text/plain": [
       "<Figure size 1080x360 with 3 Axes>"
      ]
     },
     "metadata": {
      "needs_background": "light"
     },
     "output_type": "display_data"
    },
    {
     "name": "stdout",
     "output_type": "stream",
     "text": [
      "Ball states:\n"
     ]
    },
    {
     "data": {
      "image/png": "[encoded data removed]",
      "text/plain": [
       "<Figure size 1080x360 with 3 Axes>"
      ]
     },
     "metadata": {
      "needs_background": "light"
     },
     "output_type": "display_data"
    }
   ],
   "source": [
    "def showDistributions():\n",
    "    print (\"Player states:\")\n",
    "\n",
    "    allPlayerStates  = [s for game in GAMES for s in game['playerStates'] ]\n",
    "    allPlayerActions = [a for game in GAMES for a in game['playerActions']]\n",
    "    allBallStates    = [game['ballStates'] for game in GAMES]\n",
    "    \n",
    "    for i in range(0, len(libPreprocess.PLAYER_STATE_KEYS), 3):\n",
    "        fig, ax = plt.subplots(1, 3, figsize=(15, 5))\n",
    "        for j in range(3):\n",
    "            if i + j >= len(libPreprocess.PLAYER_STATE_KEYS):\n",
    "                break\n",
    "            key = libPreprocess.PLAYER_STATE_KEYS[i + j]\n",
    "            allValues = []\n",
    "            for pState in allPlayerStates:\n",
    "                allValues.extend(pState[key].values)\n",
    "            ax[j].hist(allValues, log=True, bins=30, density=True)\n",
    "            ax[j].set_title(key)\n",
    "            ax[j].set_ylim((1e-3, 10))\n",
    "        plt.show()\n",
    "\n",
    "    print (\"Player actions:\")\n",
    "    for i in range(0, len(libPreprocess.PLAYER_ACTION_KEYS), 3):\n",
    "        fig, ax = plt.subplots(1, 3, figsize=(15, 5))\n",
    "        for j in range(3):\n",
    "            if i + j >= len(libPreprocess.PLAYER_ACTION_KEYS):\n",
    "                break\n",
    "            key = libPreprocess.PLAYER_ACTION_KEYS[i + j]\n",
    "            allValues = []\n",
    "            for pAct in allPlayerActions:\n",
    "                allValues.extend(pAct[key].values * 1.0)\n",
    "            ax[j].hist(allValues, log=True, bins=30, density=True)\n",
    "            ax[j].set_title(key)\n",
    "            ax[j].set_ylim((1e-3, 10))\n",
    "        plt.show()\n",
    "\n",
    "    print (\"Ball states:\")\n",
    "    for i in range(0, len(libPreprocess.BALL_STATE_KEYS), 3):\n",
    "        fig, ax = plt.subplots(1, 3, figsize=(15, 5))\n",
    "        for j in range(3):\n",
    "            if i + j >= len(libPreprocess.BALL_STATE_KEYS):\n",
    "                break\n",
    "            key = libPreprocess.BALL_STATE_KEYS[i + j]\n",
    "            allValues = []\n",
    "            for bState in allBallStates:\n",
    "                allValues.extend(bState[key].values)\n",
    "            ax[j].hist(allValues, log=True, bins=30, density=True)\n",
    "            ax[j].set_title(key)\n",
    "            ax[j].set_ylim((1e-3, 10))\n",
    "        plt.show()\n",
    "    \n",
    "showDistributions()"
   ]
  },
  {
   "cell_type": "markdown",
   "metadata": {},
   "source": [
    "## Extract expert states and actions\n",
    "\n",
    "Combine ball state and all player states into one dataframe, labelled appropriately for the expert player.\n"
   ]
  },
  {
   "cell_type": "code",
   "execution_count": 8,
   "metadata": {},
   "outputs": [
    {
     "name": "stdout",
     "output_type": "stream",
     "text": [
      "State and action maps for player expert\n",
      "(12921, 29) float64\n",
      "(12921, 3) object\n",
      "=======\n",
      "\n",
      "\n",
      "State and action maps for player expert\n",
      "(12016, 29) float64\n",
      "(12016, 3) object\n",
      "=======\n",
      "\n",
      "\n",
      "State and action maps for player expert\n",
      "(12682, 29) float64\n",
      "(12682, 3) object\n",
      "=======\n",
      "\n",
      "\n"
     ]
    }
   ],
   "source": [
    "for game in GAMES:\n",
    "    game['expertStates'], game['expertActions'] = libPreprocess.stateAndActionsForPlayer(game, EXPERT_PLAYER_IDX)\n",
    "    print (\"State and action maps for player %s\" % game['data'].players[EXPERT_PLAYER_IDX].name)\n",
    "    print (game['expertStates'].values.shape, game['expertStates'].values.dtype)\n",
    "    print (game['expertActions'].values.shape, game['expertActions'].values.dtype)\n",
    "    print (\"=======\\n\\n\")"
   ]
  },
  {
   "cell_type": "markdown",
   "metadata": {},
   "source": [
    "## Train the model\n",
    "\n",
    "Using all the data, collect into batches and train the model for a number of epochs,  \n",
    "and save the result to file for use within the game."
   ]
  },
  {
   "cell_type": "code",
   "execution_count": 10,
   "metadata": {
    "scrolled": true
   },
   "outputs": [
    {
     "name": "stdout",
     "output_type": "stream",
     "text": [
      "37619 rows, 29 state dim, 3 action dim, into 377 batches of size 100\n",
      "[epoch    1/300] [iter     377] [loss 40.74430]\n",
      "[epoch    2/300] [iter     754] [loss 31.09900]\n",
      "[epoch    3/300] [iter    1131] [loss 25.51734]\n",
      "[epoch    4/300] [iter    1508] [loss 30.41732]\n",
      "[epoch    5/300] [iter    1885] [loss 24.15697]\n",
      "[epoch    6/300] [iter    2262] [loss 25.67808]\n",
      "[epoch    7/300] [iter    2639] [loss 19.98825]\n",
      "[epoch    8/300] [iter    3016] [loss 19.33655]\n",
      "[epoch    9/300] [iter    3393] [loss 19.55820]\n",
      "[epoch   10/300] [iter    3770] [loss 22.24596]\n",
      "[epoch   11/300] [iter    4147] [loss 18.06550]\n",
      "[epoch   12/300] [iter    4524] [loss 17.82089]\n",
      "[epoch   13/300] [iter    4901] [loss 18.53518]\n",
      "[epoch   14/300] [iter    5278] [loss 19.86867]\n",
      "[epoch   15/300] [iter    5655] [loss 19.74246]\n",
      "[epoch   16/300] [iter    6032] [loss 18.00149]\n",
      "[epoch   17/300] [iter    6409] [loss 15.26924]\n",
      "[epoch   18/300] [iter    6786] [loss 16.37003]\n",
      "[epoch   19/300] [iter    7163] [loss 23.18381]\n",
      "[epoch   20/300] [iter    7540] [loss 16.21078]\n",
      "[epoch   21/300] [iter    7917] [loss 14.86050]\n",
      "[epoch   22/300] [iter    8294] [loss 17.20677]\n",
      "[epoch   23/300] [iter    8671] [loss 18.60812]\n",
      "[epoch   24/300] [iter    9048] [loss 11.97857]\n",
      "[epoch   25/300] [iter    9425] [loss 18.27918]\n",
      "[epoch   26/300] [iter    9802] [loss 17.70450]\n",
      "[epoch   27/300] [iter   10179] [loss 20.15088]\n",
      "[epoch   28/300] [iter   10556] [loss 17.16894]\n",
      "[epoch   29/300] [iter   10933] [loss 13.13091]\n",
      "[epoch   30/300] [iter   11310] [loss 18.49745]\n",
      "[epoch   31/300] [iter   11687] [loss 16.64529]\n",
      "[epoch   32/300] [iter   12064] [loss 17.41352]\n",
      "[epoch   33/300] [iter   12441] [loss 11.85598]\n",
      "[epoch   34/300] [iter   12818] [loss 19.70277]\n",
      "[epoch   35/300] [iter   13195] [loss 20.10204]\n",
      "[epoch   36/300] [iter   13572] [loss 12.50607]\n",
      "[epoch   37/300] [iter   13949] [loss 13.48532]\n",
      "[epoch   38/300] [iter   14326] [loss 17.41825]\n",
      "[epoch   39/300] [iter   14703] [loss 13.81985]\n",
      "[epoch   40/300] [iter   15080] [loss 16.54185]\n",
      "[epoch   41/300] [iter   15457] [loss 13.60333]\n",
      "[epoch   42/300] [iter   15834] [loss 14.88317]\n",
      "[epoch   43/300] [iter   16211] [loss 17.45697]\n",
      "[epoch   44/300] [iter   16588] [loss 14.03748]\n",
      "[epoch   45/300] [iter   16965] [loss 19.00809]\n",
      "[epoch   46/300] [iter   17342] [loss 16.08866]\n",
      "[epoch   47/300] [iter   17719] [loss 15.96827]\n",
      "[epoch   48/300] [iter   18096] [loss 13.16420]\n",
      "[epoch   49/300] [iter   18473] [loss 14.24459]\n",
      "[epoch   50/300] [iter   18850] [loss 13.74461]\n",
      "[epoch   51/300] [iter   19227] [loss 19.90122]\n",
      "[epoch   52/300] [iter   19604] [loss 18.66969]\n",
      "[epoch   53/300] [iter   19981] [loss 17.07627]\n",
      "[epoch   54/300] [iter   20358] [loss 17.38504]\n",
      "[epoch   55/300] [iter   20735] [loss 13.55055]\n",
      "[epoch   56/300] [iter   21112] [loss 16.52495]\n",
      "[epoch   57/300] [iter   21489] [loss 15.42278]\n",
      "[epoch   58/300] [iter   21866] [loss 11.54239]\n",
      "[epoch   59/300] [iter   22243] [loss 12.58630]\n",
      "[epoch   60/300] [iter   22620] [loss 14.08745]\n",
      "[epoch   61/300] [iter   22997] [loss 19.21200]\n",
      "[epoch   62/300] [iter   23374] [loss 13.08403]\n",
      "[epoch   63/300] [iter   23751] [loss 16.15246]\n",
      "[epoch   64/300] [iter   24128] [loss 12.63041]\n",
      "[epoch   65/300] [iter   24505] [loss 15.58700]\n",
      "[epoch   66/300] [iter   24882] [loss 16.33281]\n",
      "[epoch   67/300] [iter   25259] [loss 16.10720]\n",
      "[epoch   68/300] [iter   25636] [loss 10.59619]\n",
      "[epoch   69/300] [iter   26013] [loss 11.46224]\n",
      "[epoch   70/300] [iter   26390] [loss 12.11529]\n",
      "[epoch   71/300] [iter   26767] [loss 14.31091]\n",
      "[epoch   72/300] [iter   27144] [loss 11.78433]\n",
      "[epoch   73/300] [iter   27521] [loss 19.29583]\n",
      "[epoch   74/300] [iter   27898] [loss 11.56313]\n",
      "[epoch   75/300] [iter   28275] [loss 17.03368]\n",
      "[epoch   76/300] [iter   28652] [loss 18.09408]\n",
      "[epoch   77/300] [iter   29029] [loss 11.82726]\n",
      "[epoch   78/300] [iter   29406] [loss 15.52130]\n",
      "[epoch   79/300] [iter   29783] [loss 16.62307]\n",
      "[epoch   80/300] [iter   30160] [loss 14.63399]\n",
      "[epoch   81/300] [iter   30537] [loss 16.21789]\n",
      "[epoch   82/300] [iter   30914] [loss 12.03654]\n",
      "[epoch   83/300] [iter   31291] [loss 10.62138]\n",
      "[epoch   84/300] [iter   31668] [loss 13.94329]\n",
      "[epoch   85/300] [iter   32045] [loss 9.63494]\n",
      "[epoch   86/300] [iter   32422] [loss 11.44384]\n",
      "[epoch   87/300] [iter   32799] [loss 14.96679]\n",
      "[epoch   88/300] [iter   33176] [loss 13.68808]\n",
      "[epoch   89/300] [iter   33553] [loss 16.77816]\n",
      "[epoch   90/300] [iter   33930] [loss 16.76451]\n",
      "[epoch   91/300] [iter   34307] [loss 15.39118]\n",
      "[epoch   92/300] [iter   34684] [loss 11.69476]\n",
      "[epoch   93/300] [iter   35061] [loss 14.93663]\n",
      "[epoch   94/300] [iter   35438] [loss 18.38732]\n",
      "[epoch   95/300] [iter   35815] [loss 12.16724]\n",
      "[epoch   96/300] [iter   36192] [loss 16.54909]\n",
      "[epoch   97/300] [iter   36569] [loss 13.48049]\n",
      "[epoch   98/300] [iter   36946] [loss 14.76816]\n",
      "[epoch   99/300] [iter   37323] [loss 17.25257]\n",
      "[epoch  100/300] [iter   37700] [loss 11.23212]\n",
      "[epoch  101/300] [iter   38077] [loss 14.91184]\n",
      "[epoch  102/300] [iter   38454] [loss 14.69282]\n",
      "[epoch  103/300] [iter   38831] [loss 14.68164]\n",
      "[epoch  104/300] [iter   39208] [loss 12.52268]\n",
      "[epoch  105/300] [iter   39585] [loss 10.55839]\n",
      "[epoch  106/300] [iter   39962] [loss 14.70763]\n",
      "[epoch  107/300] [iter   40339] [loss 16.47630]\n",
      "[epoch  108/300] [iter   40716] [loss 12.89354]\n",
      "[epoch  109/300] [iter   41093] [loss 12.50950]\n",
      "[epoch  110/300] [iter   41470] [loss 9.31691]\n",
      "[epoch  111/300] [iter   41847] [loss 11.63104]\n",
      "[epoch  112/300] [iter   42224] [loss 14.00160]\n",
      "[epoch  113/300] [iter   42601] [loss 14.86027]\n",
      "[epoch  114/300] [iter   42978] [loss 11.00000]\n",
      "[epoch  115/300] [iter   43355] [loss 11.53564]\n",
      "[epoch  116/300] [iter   43732] [loss 10.39613]\n",
      "[epoch  117/300] [iter   44109] [loss 15.94112]\n",
      "[epoch  118/300] [iter   44486] [loss 11.89241]\n",
      "[epoch  119/300] [iter   44863] [loss 13.79178]\n",
      "[epoch  120/300] [iter   45240] [loss 10.51601]\n",
      "[epoch  121/300] [iter   45617] [loss 13.78909]\n",
      "[epoch  122/300] [iter   45994] [loss 23.55109]\n",
      "[epoch  123/300] [iter   46371] [loss 13.74710]\n",
      "[epoch  124/300] [iter   46748] [loss 12.95674]\n",
      "[epoch  125/300] [iter   47125] [loss 13.38522]\n",
      "[epoch  126/300] [iter   47502] [loss 11.71386]\n",
      "[epoch  127/300] [iter   47879] [loss 15.04557]\n",
      "[epoch  128/300] [iter   48256] [loss 10.65528]\n",
      "[epoch  129/300] [iter   48633] [loss 11.80678]\n",
      "[epoch  130/300] [iter   49010] [loss 16.01289]\n",
      "[epoch  131/300] [iter   49387] [loss 8.56422]\n",
      "[epoch  132/300] [iter   49764] [loss 10.90525]\n",
      "[epoch  133/300] [iter   50141] [loss 14.05429]\n",
      "[epoch  134/300] [iter   50518] [loss 10.78781]\n",
      "[epoch  135/300] [iter   50895] [loss 8.08664]\n",
      "[epoch  136/300] [iter   51272] [loss 12.83787]\n",
      "[epoch  137/300] [iter   51649] [loss 17.03172]\n",
      "[epoch  138/300] [iter   52026] [loss 12.98903]\n",
      "[epoch  139/300] [iter   52403] [loss 13.00653]\n",
      "[epoch  140/300] [iter   52780] [loss 15.68232]\n",
      "[epoch  141/300] [iter   53157] [loss 14.71016]\n",
      "[epoch  142/300] [iter   53534] [loss 11.89415]\n",
      "[epoch  143/300] [iter   53911] [loss 12.19635]\n",
      "[epoch  144/300] [iter   54288] [loss 13.85527]\n",
      "[epoch  145/300] [iter   54665] [loss 17.01155]\n",
      "[epoch  146/300] [iter   55042] [loss 17.28456]\n",
      "[epoch  147/300] [iter   55419] [loss 11.71277]\n",
      "[epoch  148/300] [iter   55796] [loss 11.67668]\n",
      "[epoch  149/300] [iter   56173] [loss 15.24796]\n",
      "[epoch  150/300] [iter   56550] [loss 14.79369]\n",
      "[epoch  151/300] [iter   56927] [loss 14.48061]\n",
      "[epoch  152/300] [iter   57304] [loss 12.42921]\n",
      "[epoch  153/300] [iter   57681] [loss 13.76202]\n",
      "[epoch  154/300] [iter   58058] [loss 11.35062]\n",
      "[epoch  155/300] [iter   58435] [loss 17.44074]\n",
      "[epoch  156/300] [iter   58812] [loss 13.49489]\n",
      "[epoch  157/300] [iter   59189] [loss 10.57313]\n",
      "[epoch  158/300] [iter   59566] [loss 11.97278]\n",
      "[epoch  159/300] [iter   59943] [loss 10.94191]\n",
      "[epoch  160/300] [iter   60320] [loss 15.40552]\n",
      "[epoch  161/300] [iter   60697] [loss 8.78556]\n",
      "[epoch  162/300] [iter   61074] [loss 10.33850]\n",
      "[epoch  163/300] [iter   61451] [loss 8.46176]\n",
      "[epoch  164/300] [iter   61828] [loss 10.42222]\n",
      "[epoch  165/300] [iter   62205] [loss 15.39984]\n",
      "[epoch  166/300] [iter   62582] [loss 16.58606]\n",
      "[epoch  167/300] [iter   62959] [loss 12.52282]\n",
      "[epoch  168/300] [iter   63336] [loss 12.44380]\n",
      "[epoch  169/300] [iter   63713] [loss 12.49576]\n",
      "[epoch  170/300] [iter   64090] [loss 9.19042]\n"
     ]
    },
    {
     "name": "stdout",
     "output_type": "stream",
     "text": [
      "[epoch  171/300] [iter   64467] [loss 15.52763]\n",
      "[epoch  172/300] [iter   64844] [loss 12.03331]\n",
      "[epoch  173/300] [iter   65221] [loss 16.38191]\n",
      "[epoch  174/300] [iter   65598] [loss 9.47356]\n",
      "[epoch  175/300] [iter   65975] [loss 10.19114]\n",
      "[epoch  176/300] [iter   66352] [loss 11.64857]\n",
      "[epoch  177/300] [iter   66729] [loss 13.75260]\n",
      "[epoch  178/300] [iter   67106] [loss 13.28499]\n",
      "[epoch  179/300] [iter   67483] [loss 9.78864]\n",
      "[epoch  180/300] [iter   67860] [loss 14.51688]\n",
      "[epoch  181/300] [iter   68237] [loss 12.39606]\n",
      "[epoch  182/300] [iter   68614] [loss 14.92381]\n",
      "[epoch  183/300] [iter   68991] [loss 19.52020]\n",
      "[epoch  184/300] [iter   69368] [loss 10.19977]\n",
      "[epoch  185/300] [iter   69745] [loss 11.58982]\n",
      "[epoch  186/300] [iter   70122] [loss 14.51229]\n",
      "[epoch  187/300] [iter   70499] [loss 13.39183]\n",
      "[epoch  188/300] [iter   70876] [loss 9.39138]\n",
      "[epoch  189/300] [iter   71253] [loss 12.64128]\n",
      "[epoch  190/300] [iter   71630] [loss 15.21832]\n",
      "[epoch  191/300] [iter   72007] [loss 13.77160]\n",
      "[epoch  192/300] [iter   72384] [loss 15.98131]\n",
      "[epoch  193/300] [iter   72761] [loss 14.90073]\n",
      "[epoch  194/300] [iter   73138] [loss 11.11712]\n",
      "[epoch  195/300] [iter   73515] [loss 14.15138]\n",
      "[epoch  196/300] [iter   73892] [loss 13.50520]\n",
      "[epoch  197/300] [iter   74269] [loss 8.01733]\n",
      "[epoch  198/300] [iter   74646] [loss 10.68578]\n",
      "[epoch  199/300] [iter   75023] [loss 13.11251]\n",
      "[epoch  200/300] [iter   75400] [loss 8.61818]\n",
      "[epoch  201/300] [iter   75777] [loss 14.25043]\n",
      "[epoch  202/300] [iter   76154] [loss 18.59005]\n",
      "[epoch  203/300] [iter   76531] [loss 14.95780]\n",
      "[epoch  204/300] [iter   76908] [loss 7.95871]\n",
      "[epoch  205/300] [iter   77285] [loss 10.37686]\n",
      "[epoch  206/300] [iter   77662] [loss 11.62311]\n",
      "[epoch  207/300] [iter   78039] [loss 11.67697]\n",
      "[epoch  208/300] [iter   78416] [loss 11.37607]\n",
      "[epoch  209/300] [iter   78793] [loss 10.52326]\n",
      "[epoch  210/300] [iter   79170] [loss 11.79671]\n",
      "[epoch  211/300] [iter   79547] [loss 11.55621]\n",
      "[epoch  212/300] [iter   79924] [loss 10.72466]\n",
      "[epoch  213/300] [iter   80301] [loss 14.50424]\n",
      "[epoch  214/300] [iter   80678] [loss 13.90006]\n",
      "[epoch  215/300] [iter   81055] [loss 21.67863]\n",
      "[epoch  216/300] [iter   81432] [loss 8.63156]\n",
      "[epoch  217/300] [iter   81809] [loss 13.09131]\n",
      "[epoch  218/300] [iter   82186] [loss 13.61894]\n",
      "[epoch  219/300] [iter   82563] [loss 9.44805]\n",
      "[epoch  220/300] [iter   82940] [loss 9.34232]\n",
      "[epoch  221/300] [iter   83317] [loss 13.03157]\n",
      "[epoch  222/300] [iter   83694] [loss 12.19977]\n",
      "[epoch  223/300] [iter   84071] [loss 12.37236]\n",
      "[epoch  224/300] [iter   84448] [loss 12.01983]\n",
      "[epoch  225/300] [iter   84825] [loss 11.47540]\n",
      "[epoch  226/300] [iter   85202] [loss 15.13479]\n",
      "[epoch  227/300] [iter   85579] [loss 9.70660]\n",
      "[epoch  228/300] [iter   85956] [loss 15.09626]\n",
      "[epoch  229/300] [iter   86333] [loss 13.06048]\n",
      "[epoch  230/300] [iter   86710] [loss 12.74686]\n",
      "[epoch  231/300] [iter   87087] [loss 9.83722]\n",
      "[epoch  232/300] [iter   87464] [loss 14.81245]\n",
      "[epoch  233/300] [iter   87841] [loss 17.24356]\n",
      "[epoch  234/300] [iter   88218] [loss 12.53177]\n",
      "[epoch  235/300] [iter   88595] [loss 13.23403]\n",
      "[epoch  236/300] [iter   88972] [loss 12.80508]\n",
      "[epoch  237/300] [iter   89349] [loss 10.79147]\n",
      "[epoch  238/300] [iter   89726] [loss 14.71801]\n",
      "[epoch  239/300] [iter   90103] [loss 15.16637]\n",
      "[epoch  240/300] [iter   90480] [loss 13.81681]\n",
      "[epoch  241/300] [iter   90857] [loss 10.92330]\n",
      "[epoch  242/300] [iter   91234] [loss 12.76447]\n",
      "[epoch  243/300] [iter   91611] [loss 20.01520]\n",
      "[epoch  244/300] [iter   91988] [loss 12.15227]\n",
      "[epoch  245/300] [iter   92365] [loss 13.98537]\n",
      "[epoch  246/300] [iter   92742] [loss 13.05929]\n",
      "[epoch  247/300] [iter   93119] [loss 14.60888]\n",
      "[epoch  248/300] [iter   93496] [loss 13.12458]\n",
      "[epoch  249/300] [iter   93873] [loss 15.43683]\n",
      "[epoch  250/300] [iter   94250] [loss 12.72452]\n",
      "[epoch  251/300] [iter   94627] [loss 12.54823]\n",
      "[epoch  252/300] [iter   95004] [loss 14.21981]\n",
      "[epoch  253/300] [iter   95381] [loss 12.66900]\n",
      "[epoch  254/300] [iter   95758] [loss 14.94218]\n",
      "[epoch  255/300] [iter   96135] [loss 14.67832]\n",
      "[epoch  256/300] [iter   96512] [loss 11.75651]\n",
      "[epoch  257/300] [iter   96889] [loss 9.15947]\n",
      "[epoch  258/300] [iter   97266] [loss 11.85801]\n",
      "[epoch  259/300] [iter   97643] [loss 8.90241]\n",
      "[epoch  260/300] [iter   98020] [loss 18.32673]\n",
      "[epoch  261/300] [iter   98397] [loss 16.91591]\n",
      "[epoch  262/300] [iter   98774] [loss 11.92450]\n",
      "[epoch  263/300] [iter   99151] [loss 8.19596]\n",
      "[epoch  264/300] [iter   99528] [loss 12.60342]\n",
      "[epoch  265/300] [iter   99905] [loss 9.76639]\n",
      "[epoch  266/300] [iter  100282] [loss 11.55608]\n",
      "[epoch  267/300] [iter  100659] [loss 14.21945]\n",
      "[epoch  268/300] [iter  101036] [loss 11.64027]\n",
      "[epoch  269/300] [iter  101413] [loss 11.23318]\n",
      "[epoch  270/300] [iter  101790] [loss 16.21227]\n",
      "[epoch  271/300] [iter  102167] [loss 12.52646]\n",
      "[epoch  272/300] [iter  102544] [loss 12.34974]\n",
      "[epoch  273/300] [iter  102921] [loss 17.38356]\n",
      "[epoch  274/300] [iter  103298] [loss 11.79859]\n",
      "[epoch  275/300] [iter  103675] [loss 9.09329]\n",
      "[epoch  276/300] [iter  104052] [loss 10.79698]\n",
      "[epoch  277/300] [iter  104429] [loss 15.87753]\n",
      "[epoch  278/300] [iter  104806] [loss 10.28548]\n",
      "[epoch  279/300] [iter  105183] [loss 15.45719]\n",
      "[epoch  280/300] [iter  105560] [loss 10.70010]\n",
      "[epoch  281/300] [iter  105937] [loss 8.87315]\n",
      "[epoch  282/300] [iter  106314] [loss 8.52391]\n",
      "[epoch  283/300] [iter  106691] [loss 12.75089]\n",
      "[epoch  284/300] [iter  107068] [loss 8.53817]\n",
      "[epoch  285/300] [iter  107445] [loss 8.76299]\n",
      "[epoch  286/300] [iter  107822] [loss 11.32006]\n",
      "[epoch  287/300] [iter  108199] [loss 15.40880]\n",
      "[epoch  288/300] [iter  108576] [loss 10.42598]\n",
      "[epoch  289/300] [iter  108953] [loss 12.10398]\n",
      "[epoch  290/300] [iter  109330] [loss 12.61090]\n",
      "[epoch  291/300] [iter  109707] [loss 15.76644]\n",
      "[epoch  292/300] [iter  110084] [loss 13.86509]\n",
      "[epoch  293/300] [iter  110461] [loss 13.08749]\n",
      "[epoch  294/300] [iter  110838] [loss 15.33234]\n",
      "[epoch  295/300] [iter  111215] [loss 11.02765]\n",
      "[epoch  296/300] [iter  111592] [loss 12.45963]\n",
      "[epoch  297/300] [iter  111969] [loss 12.49797]\n",
      "[epoch  298/300] [iter  112346] [loss 17.23804]\n",
      "[epoch  299/300] [iter  112723] [loss 8.26307]\n",
      "[epoch  300/300] [iter  113100] [loss 14.36267]\n",
      "Saved model!\n",
      "\tmodels\\bc.all3Replays.pt\n"
     ]
    }
   ],
   "source": [
    "TOTAL_EPOCHS = 300\n",
    "BATCH_SZ = 100\n",
    "#PRINT_INTERVAL = 1000\n",
    "LOG_INTERVAL = 1000\n",
    "LEARNING_RATE = 0.0003\n",
    "REGULARIZER_WEIGHT = 3e-2\n",
    "\n",
    "W_ALOSS = 100\n",
    "W_DLOSS = 50\n",
    "\n",
    "writer = SummaryWriter()\n",
    "\n",
    "def train_behavioral_cloning(dataBatches, model):\n",
    "    # Adam optimizer usually a good default.\n",
    "    optimizer = torch.optim.Adam(model.parameters(), lr=LEARNING_RATE, weight_decay=REGULARIZER_WEIGHT)\n",
    "    \n",
    "    # MSE loss for [-1, 1] continuous variables:\n",
    "    analog_loss_func = torch.nn.MSELoss().to(DEVICE)\n",
    "    \n",
    "    # Cross entropy loss for binary variables:\n",
    "    digital_loss_func = torch.nn.BCEWithLogitsLoss().to(DEVICE)\n",
    "\n",
    "    gradient_steps = 0\n",
    "\n",
    "    for epoch in range(1, TOTAL_EPOCHS + 1):\n",
    "        batchShuffled = random.sample(dataBatches, len(dataBatches))\n",
    "        lastLoss = -1\n",
    "        for iteration, data in enumerate(batchShuffled):\n",
    "            data = {k: v.to(DEVICE) for k, v in data.items()}\n",
    "            output = model(data['s'])\n",
    "            analogAction = 2 * torch.sigmoid(data['aAnalog']) - 1\n",
    "            digitalAction = data['aDigital']\n",
    "            \n",
    "            aasz = len(libPreprocess.PLAYER_ANALOG_ACTION_KEYS)\n",
    "            aLoss = W_ALOSS * analog_loss_func(output[:, :aasz], analogAction)\n",
    "            dLoss = W_DLOSS * digital_loss_func(output[:, aasz:], digitalAction)\n",
    "            loss = aLoss + dLoss\n",
    "\n",
    "            optimizer.zero_grad()\n",
    "            loss.backward()\n",
    "            optimizer.step()\n",
    "\n",
    "            if gradient_steps % LOG_INTERVAL == 0:\n",
    "                writer.add_scalar('analogLoss', aLoss.item(), gradient_steps)\n",
    "                writer.add_scalar('digitalLoss', dLoss.item(), gradient_steps)\n",
    "                writer.add_scalar('loss', loss.item(), gradient_steps)\n",
    "            \n",
    "            gradient_steps += 1\n",
    "            \n",
    "            if iteration == len(batchShuffled) - 1:\n",
    "                lastLoss = loss.item()\n",
    "            \n",
    "        print ('[epoch {:4d}/{}] [iter {:7d}] [loss {:.5f}]'.format(\n",
    "           epoch, TOTAL_EPOCHS, gradient_steps, lastLoss)\n",
    "        )\n",
    "    \n",
    "def runTraining():\n",
    "    combinedStates  = pd.concat([game['expertStates']  for game in GAMES])\n",
    "    combinedActions = pd.concat([game['expertActions'] for game in GAMES])\n",
    "    \n",
    "    dataBatches, stateSz, actionAnalogSz, actionDigitalSize = \\\n",
    "        libPreprocess.dataToBatches(combinedStates, combinedActions, BATCH_SZ, splitActions=True)\n",
    "    \n",
    "    model = StoA_Model(stateSz, actionAnalogSz + actionDigitalSize, DEVICE)\n",
    "    train_behavioral_cloning(dataBatches, model)\n",
    "    model.save(\"bc.all3Replays\")\n",
    "    return model\n",
    "\n",
    "model = runTraining()\n"
   ]
  },
  {
   "cell_type": "code",
   "execution_count": null,
   "metadata": {},
   "outputs": [],
   "source": []
  }
 ],
 "metadata": {
  "kernelspec": {
   "display_name": "Python 3",
   "language": "python",
   "name": "python3"
  },
  "language_info": {
   "codemirror_mode": {
    "name": "ipython",
    "version": 3
   },
   "file_extension": ".py",
   "mimetype": "text/x-python",
   "name": "python",
   "nbconvert_exporter": "python",
   "pygments_lexer": "ipython3",
   "version": "3.8.1"
  }
 },
 "nbformat": 4,
 "nbformat_minor": 4
}
