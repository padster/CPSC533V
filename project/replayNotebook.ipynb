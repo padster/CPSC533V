{
 "cells": [
  {
   "cell_type": "code",
   "execution_count": 1,
   "metadata": {},
   "outputs": [],
   "source": [
    "# PARAMS\n",
    "\n",
    "NORMALIZE_STATE = True\n",
    "NORMALIZE_ACTIONS = True"
   ]
  },
  {
   "cell_type": "code",
   "execution_count": 2,
   "metadata": {},
   "outputs": [],
   "source": [
    "import math\n",
    "import matplotlib.pyplot as plt\n",
    "import numpy as np\n",
    "import os\n",
    "import pandas as pd\n",
    "import sys\n",
    "\n",
    "sys.path.append('D:/projects/carball')\n",
    "\n",
    "from tqdm.notebook import tqdm\n",
    "\n",
    "import carball\n",
    "from carball.controls.controls import ControlsCreator\n",
    "from carball.json_parser import Game\n",
    "\n",
    "# NN \n",
    "import random\n",
    "\n",
    "import torch\n",
    "import torch.nn as nn\n",
    "import torch.nn.functional as F\n",
    "from torch.utils.tensorboard import SummaryWriter\n",
    "\n",
    "device = torch.device(\"cpu\")"
   ]
  },
  {
   "cell_type": "code",
   "execution_count": 3,
   "metadata": {},
   "outputs": [],
   "source": [
    "%matplotlib inline\n",
    "plt.rcParams['figure.figsize'] = (16, 10)\n",
    "#print (plt.rcParams.keys())"
   ]
  },
  {
   "cell_type": "code",
   "execution_count": 4,
   "metadata": {},
   "outputs": [
    {
     "data": {
      "application/javascript": [
       "IPython.OutputArea.prototype._should_scroll = function(lines) {\n",
       "    return false;\n",
       "}\n"
      ],
      "text/plain": [
       "<IPython.core.display.Javascript object>"
      ]
     },
     "metadata": {},
     "output_type": "display_data"
    }
   ],
   "source": [
    "%%javascript\n",
    "IPython.OutputArea.prototype._should_scroll = function(lines) {\n",
    "    return false;\n",
    "}"
   ]
  },
  {
   "cell_type": "markdown",
   "metadata": {},
   "source": [
    "## Parse the game from a .replay file"
   ]
  },
  {
   "cell_type": "code",
   "execution_count": 5,
   "metadata": {},
   "outputs": [
    {
     "name": "stdout",
     "output_type": "stream",
     "text": [
      "Loading...\n",
      "\treplays\\noBoost1v1_1.replay\n"
     ]
    },
    {
     "name": "stderr",
     "output_type": "stream",
     "text": [
      "Could not find field_of_view in camera settings for Sundown\n",
      "Could not find height in camera settings for Sundown\n",
      "Could not find pitch in camera settings for Sundown\n",
      "Could not find distance in camera settings for Sundown\n",
      "Could not find stiffness in camera settings for Sundown\n",
      "Could not find swivel_speed in camera settings for Sundown\n",
      "Could not find transition_speed in camera settings for Sundown\n",
      "D:/projects/carball\\carball\\controls\\rotations.py:87: RuntimeWarning: invalid value encountered in sign\n",
      "  rhs[1] / (T_p + np.sign(rhs[1]) * omega[1] * D_p),\n",
      "D:/projects/carball\\carball\\controls\\rotations.py:88: RuntimeWarning: invalid value encountered in sign\n",
      "  rhs[2] / (T_y - np.sign(rhs[2]) * omega[2] * D_y)\n"
     ]
    }
   ],
   "source": [
    "def replayToGame(replayID):\n",
    "    replayPath = os.path.join(\"replays\", \"%s.replay\" % replayID)\n",
    "    print (\"Loading...\\n\\t%s\" % replayPath)\n",
    "    json = carball.decompile_replay(replayPath)\n",
    "    game = Game()\n",
    "    game.initialize(loaded_json=json)\n",
    "    return game\n",
    "\n",
    "GAME = replayToGame(\"noBoost1v1_1\")\n",
    "# Parses action-related properties into their actual actions\n",
    "ControlsCreator().get_controls(GAME)"
   ]
  },
  {
   "cell_type": "code",
   "execution_count": 6,
   "metadata": {},
   "outputs": [
    {
     "name": "stdout",
     "output_type": "stream",
     "text": [
      "2 players loaded!\n",
      "\n",
      "Orange team:\n",
      "\tSundown\n",
      "\n",
      "Blue team:\n",
      "\tpadster\n",
      "\n",
      "12921 data points acquired\n"
     ]
    }
   ],
   "source": [
    "nPlayers = len(GAME.players)\n",
    "#assert nPlayers == 6, \"Only 3v3 modes supported, this has %d players\" % nPlayers\n",
    "assert nPlayers == 2, \"Only 1v1 modes supported, this has %d players\" % nPlayers\n",
    "print (\"%d players loaded!\" % nPlayers)\n",
    "\n",
    "orangeIdx = [i for i, p in enumerate(GAME.players) if p.is_orange]\n",
    "blueIdx = [i for i, p in enumerate(GAME.players) if not p.is_orange]\n",
    "\n",
    "print (\"\\nOrange team:\")\n",
    "for i in orangeIdx:\n",
    "    print (\"\\t%s\" % GAME.players[i].name)\n",
    "print (\"\\nBlue team:\")\n",
    "for i in blueIdx:\n",
    "    print (\"\\t%s\" % GAME.players[i].name)\n",
    "        \n",
    "nTimepoints = len(GAME.ball)\n",
    "for p in GAME.players:\n",
    "    assert len(p.data) >= nTimepoints - 20, \\\n",
    "        \"Players (%d) need the same number of time points (%d), no leaves allowed\" % (len(p.data), nTimepoints)\n",
    "    nTimepoints = min(nTimepoints, len(p.data))\n",
    "print (\"\\n%d data points acquired\" % nTimepoints)\n",
    "\n",
    "# if not all the same, trim\n",
    "GAME.ball = GAME.ball.tail(nTimepoints)\n",
    "for p in GAME.players:\n",
    "    p.data = p.data.tail(nTimepoints)"
   ]
  },
  {
   "cell_type": "code",
   "execution_count": 7,
   "metadata": {},
   "outputs": [
    {
     "name": "stdout",
     "output_type": "stream",
     "text": [
      "Player values recorded:\n",
      " * ping\n",
      " * pos_x\n",
      " * pos_y\n",
      " * pos_z\n",
      " * rot_x\n",
      " * rot_y\n",
      " * rot_z\n",
      " * vel_x\n",
      " * vel_y\n",
      " * vel_z\n",
      " * ang_vel_x\n",
      " * ang_vel_y\n",
      " * ang_vel_z\n",
      " * throttle\n",
      " * steer\n",
      " * handbrake\n",
      " * ball_cam\n",
      " * boost\n",
      " * boost_active\n",
      " * jump_active\n",
      " * double_jump_active\n",
      " * dodge_active\n",
      " * boost_collect\n",
      "\n",
      "Ball values recorded:\n",
      " * pos_x\n",
      " * pos_y\n",
      " * pos_z\n",
      " * rot_x\n",
      " * rot_y\n",
      " * rot_z\n",
      " * vel_x\n",
      " * vel_y\n",
      " * vel_z\n",
      " * ang_vel_x\n",
      " * ang_vel_y\n",
      " * ang_vel_z\n",
      " * hit_team_no\n"
     ]
    }
   ],
   "source": [
    "print (\"Player values recorded:\")\n",
    "for pp in list(GAME.players[0].data):\n",
    "    print (\" * \" + pp)\n",
    "    \n",
    "print (\"\\nBall values recorded:\")\n",
    "for bp in list(GAME.ball):\n",
    "    print (\" * \" + bp)"
   ]
  },
  {
   "cell_type": "code",
   "execution_count": 8,
   "metadata": {},
   "outputs": [
    {
     "data": {
      "application/vnd.jupyter.widget-view+json": {
       "model_id": "7f9694057754439085d1a5cd69af8878",
       "version_major": 2,
       "version_minor": 0
      },
      "text/plain": [
       "HBox(children=(FloatProgress(value=0.0, max=2.0), HTML(value='')))"
      ]
     },
     "metadata": {},
     "output_type": "display_data"
    },
    {
     "name": "stdout",
     "output_type": "stream",
     "text": [
      "\n"
     ]
    }
   ],
   "source": [
    "PLAYER_STATE_KEYS = (\n",
    "    ['pos_x', 'pos_y', 'pos_z'] +              # x \\\n",
    "    ['vel_x', 'vel_y', 'vel_z'] +              # dx/xt \\\n",
    "    ['rot_x', 'rot_y', 'rot_z'] +              # q \\\n",
    "    ['ang_vel_x', 'ang_vel_y', 'ang_vel_z'] +  # dq/dt \\\n",
    "    ['boost']\n",
    ")\n",
    "\n",
    "PLAYER_ANALOG_ACTION_KEYS = ['throttle', 'steer']\n",
    "PLAYER_DIGITAL_ACTION_KEYS = ['boost'] # Simplified easier case\n",
    "#PLAYER_DIGITAL_ACTION_KEYS = ['boost', 'jump', 'handbreak'] # Harder case\n",
    "PLAYER_ACTION_KEYS = PLAYER_ANALOG_ACTION_KEYS + PLAYER_DIGITAL_ACTION_KEYS\n",
    "\n",
    "# Only useful state for ball is (x,y,z) position\n",
    "BALL_STATE_KEYS = (\n",
    "    ['pos_x', 'pos_y', 'pos_z']\n",
    ")\n",
    "\n",
    "def normMiddlePeak(v):\n",
    "    return 4/(1 + np.exp(-v)) - 2\n",
    "    #return np.cbrt(v)\n",
    "    #return math.erf(v)\n",
    "    \n",
    "def ensure01(values):\n",
    "    assert np.sum(values.isin([0, 1])) == len(values), \"Boolean column is not just 0s and 1s\"\n",
    "    return values\n",
    "    \n",
    "\n",
    "def imputePlayerState(stateDF):\n",
    "    # Note: Missing values come from start of game or after explosion, in which case, \n",
    "    # should be an okay approximation to impute by forward then backfilling.\n",
    "    return stateDF.fillna(method='ffill').fillna(method='bfill')\n",
    "\n",
    "def normPlayerState(stateDF):\n",
    "    normedDF = pd.DataFrame()\n",
    "    normedDF['pos_x'] = stateDF['pos_x'] / 4000.0\n",
    "    normedDF['pos_y'] = stateDF['pos_y'] / 5500.0\n",
    "    normedDF['pos_z'] = stateDF['pos_z'] / 2000.0\n",
    "    normedDF['vel_x'] = normMiddlePeak(stateDF['vel_x'] / 22000.0)\n",
    "    normedDF['vel_y'] = normMiddlePeak(stateDF['vel_y'] / 22000.0)\n",
    "    normedDF['vel_z'] = normMiddlePeak(normMiddlePeak(stateDF['vel_z'] / 16000.0))\n",
    "    normedDF['rot_x'] = normMiddlePeak(stateDF['rot_x'] / (np.pi / 2))\n",
    "    normedDF['rot_y'] = stateDF['rot_y'] / np.pi\n",
    "    normedDF['rot_z'] = normMiddlePeak(stateDF['rot_z'] / np.pi)\n",
    "    normedDF['ang_vel_x'] = stateDF['ang_vel_x'] / 6000.0\n",
    "    normedDF['ang_vel_y'] = stateDF['ang_vel_y'] / 6000.0\n",
    "    normedDF['ang_vel_z'] = stateDF['ang_vel_z'] / 6000.0\n",
    "    normedDF['boost'] = stateDF['boost'] / 256.0\n",
    "    assert normedDF.shape[1] == stateDF.shape[1], \"Columns are missing normalization\"\n",
    "    return normedDF\n",
    "\n",
    "def imputePlayerActions(actionDF):\n",
    "    # Missing value here are converted to inaction\n",
    "    actionDF = actionDF.fillna({\n",
    "        'throttle': 0,\n",
    "        'steer': 0,\n",
    "        'jump': False,\n",
    "        'boost': False,\n",
    "        'handbrake': False,\n",
    "    })\n",
    "    #actionDF = actionDF.astype({\n",
    "    #    'jump': 'float64',               # from bool\n",
    "    #    'boost': 'float64',              # from bool\n",
    "    #    'handbrake': 'float64',          # from bool\n",
    "    #})\n",
    "    return actionDF\n",
    "\n",
    "def normPlayerActions(actionDF):\n",
    "    # Note: ControlsCreator already norms them for us\n",
    "    normedDF = actionDF.copy()\n",
    "    assert normedDF.shape[1] == actionDF.shape[1], \"Columns are missing normalization\"\n",
    "    return normedDF\n",
    "\n",
    "def normBallState(stateDF):\n",
    "    normedDF = pd.DataFrame()\n",
    "    normedDF['pos_x'] = stateDF['pos_x'] / 4000.0\n",
    "    normedDF['pos_y'] = stateDF['pos_y'] / 5500.0\n",
    "    normedDF['pos_z'] = stateDF['pos_z'] / 2000.0\n",
    "    assert normedDF.shape[1] == stateDF.shape[1], \"Columns are missing normalization\"\n",
    "    return normedDF\n",
    "\n",
    "def cleanPlayerStates(playerDF):\n",
    "    stateDF = playerDF[PLAYER_STATE_KEYS]\n",
    "    stateDF = imputePlayerState(stateDF)\n",
    "    if NORMALIZE_STATE:\n",
    "        stateDF = normPlayerState(stateDF)\n",
    "    return stateDF\n",
    "\n",
    "def cleanPlayerActions(controlDF):\n",
    "    actionDF = controlDF[PLAYER_ACTION_KEYS]\n",
    "    actionDF = imputePlayerActions(actionDF)\n",
    "    if NORMALIZE_ACTIONS:\n",
    "        actionDF = normPlayerActions(actionDF)\n",
    "    return actionDF\n",
    "\n",
    "def cleanBallStates(ballDF):\n",
    "    stateDF = ballDF[BALL_STATE_KEYS] * 1.0 # force int -> float\n",
    "    if NORMALIZE_STATE:\n",
    "        stateDF = normBallState(stateDF)\n",
    "    return stateDF\n",
    "    \n",
    "playerStates, playerActions = [], []\n",
    "for p in tqdm(GAME.players):\n",
    "    playerStates.append( cleanPlayerStates( p.data))\n",
    "    playerActions.append(cleanPlayerActions(p.controls))\n",
    "ballStates = cleanBallStates(GAME.ball)"
   ]
  },
  {
   "cell_type": "markdown",
   "metadata": {},
   "source": [
    "## Distrubutions of values\n",
    "\n",
    "Histogram for the distribution of values of each state and columns"
   ]
  },
  {
   "cell_type": "code",
   "execution_count": 9,
   "metadata": {},
   "outputs": [
    {
     "name": "stdout",
     "output_type": "stream",
     "text": [
      "Player states:\n"
     ]
    },
    {
     "data": {
      "image/png": "[encoded data removed]",
      "text/plain": [
       "<Figure size 1080x360 with 3 Axes>"
      ]
     },
     "metadata": {
      "needs_background": "light"
     },
     "output_type": "display_data"
    },
    {
     "data": {
      "image/png": "[encoded data removed]",
      "text/plain": [
       "<Figure size 1080x360 with 3 Axes>"
      ]
     },
     "metadata": {
      "needs_background": "light"
     },
     "output_type": "display_data"
    },
    {
     "data": {
      "image/png": "[encoded data removed]",
      "text/plain": [
       "<Figure size 1080x360 with 3 Axes>"
      ]
     },
     "metadata": {
      "needs_background": "light"
     },
     "output_type": "display_data"
    },
    {
     "data": {
      "image/png": "[encoded data removed]",
      "text/plain": [
       "<Figure size 1080x360 with 3 Axes>"
      ]
     },
     "metadata": {
      "needs_background": "light"
     },
     "output_type": "display_data"
    },
    {
     "data": {
      "image/png": "[encoded data removed]",
      "text/plain": [
       "<Figure size 1080x360 with 3 Axes>"
      ]
     },
     "metadata": {
      "needs_background": "light"
     },
     "output_type": "display_data"
    },
    {
     "name": "stdout",
     "output_type": "stream",
     "text": [
      "Player actions:\n"
     ]
    },
    {
     "data": {
      "image/png": "[encoded data removed]",
      "text/plain": [
       "<Figure size 1080x360 with 3 Axes>"
      ]
     },
     "metadata": {
      "needs_background": "light"
     },
     "output_type": "display_data"
    },
    {
     "name": "stdout",
     "output_type": "stream",
     "text": [
      "Ball states:\n"
     ]
    },
    {
     "data": {
      "image/png": "[encoded data removed]",
      "text/plain": [
       "<Figure size 1080x360 with 3 Axes>"
      ]
     },
     "metadata": {
      "needs_background": "light"
     },
     "output_type": "display_data"
    }
   ],
   "source": [
    "print (\"Player states:\")\n",
    "for i in range(0, len(PLAYER_STATE_KEYS), 3):\n",
    "    fig, ax = plt.subplots(1, 3, figsize=(15, 5))\n",
    "    for j in range(3):\n",
    "        if i + j >= len(PLAYER_STATE_KEYS):\n",
    "            break\n",
    "        key = PLAYER_STATE_KEYS[i + j]\n",
    "        allValues = []\n",
    "        for pState in playerStates:\n",
    "            allValues.extend(pState[key].values)\n",
    "        ax[j].hist(allValues, log=True, bins=30, density=True)\n",
    "        ax[j].set_title(key)\n",
    "        ax[j].set_ylim((1e-3, 10))\n",
    "    plt.show()\n",
    "\n",
    "print (\"Player actions:\")\n",
    "for i in range(0, len(PLAYER_ACTION_KEYS), 3):\n",
    "    fig, ax = plt.subplots(1, 3, figsize=(15, 5))\n",
    "    for j in range(3):\n",
    "        if i + j >= len(PLAYER_ACTION_KEYS):\n",
    "            break\n",
    "        key = PLAYER_ACTION_KEYS[i + j]\n",
    "        allValues = []\n",
    "        for pAct in playerActions:\n",
    "            allValues.extend(pAct[key].values * 1.0)\n",
    "        ax[j].hist(allValues, log=True, bins=30, density=True)\n",
    "        ax[j].set_title(key)\n",
    "        ax[j].set_ylim((1e-3, 10))\n",
    "    plt.show()\n",
    "    \n",
    "print (\"Ball states:\")\n",
    "for i in range(0, len(BALL_STATE_KEYS), 3):\n",
    "    fig, ax = plt.subplots(1, 3, figsize=(15, 5))\n",
    "    for j in range(3):\n",
    "        if i + j >= len(BALL_STATE_KEYS):\n",
    "            break\n",
    "        key = BALL_STATE_KEYS[i + j]\n",
    "        allValues = ballStates[key].values\n",
    "        ax[j].hist(allValues, log=True, bins=30, density=True)\n",
    "        ax[j].set_title(key)\n",
    "        ax[j].set_ylim((1e-3, 10))\n",
    "    plt.show()"
   ]
  },
  {
   "cell_type": "code",
   "execution_count": 10,
   "metadata": {},
   "outputs": [],
   "source": [
    "###"
   ]
  },
  {
   "cell_type": "code",
   "execution_count": 11,
   "metadata": {},
   "outputs": [
    {
     "name": "stdout",
     "output_type": "stream",
     "text": [
      "(12921, 29) float64\n",
      "(12921, 3) object\n"
     ]
    }
   ],
   "source": [
    "def copyIntoPrefixed(toDF, fromDF, prefix):\n",
    "    for column in list(fromDF):\n",
    "        toDF[prefix + column] = fromDF[column]\n",
    "\n",
    "def teamBreakdown(playerIdx):\n",
    "    isOrange = GAME.players[playerIdx].is_orange\n",
    "    teamIdx = [i for i in range(nPlayers) if i != playerIdx and GAME.players[i].is_orange == isOrange]\n",
    "    enemyIdx = blueIdx if isOrange else orangeIdx\n",
    "    return teamIdx, enemyIdx \n",
    "    \n",
    "def stateAndActionsForPlayer(playerIdx):\n",
    "    stateDF = pd.DataFrame(index=ballStates.index)\n",
    "    copyIntoPrefixed(stateDF, ballStates, \"b_\")\n",
    "    copyIntoPrefixed(stateDF, playerStates[playerIdx], \"me_\")\n",
    "    \n",
    "    teamIdx, enemyIdx = teamBreakdown(playerIdx)\n",
    "    for i, idx in enumerate(teamIdx):\n",
    "        copyIntoPrefixed(stateDF, playerStates[idx], \"t%d_\" % i)\n",
    "    for i, idx in enumerate(enemyIdx):\n",
    "        copyIntoPrefixed(stateDF, playerStates[idx], \"e%d_\" % i)\n",
    "    assert max(stateDF.isna().sum()) == 0, \"NA state values not successfully removed?\"\n",
    "    \n",
    "    actionDF = playerActions[playerIdx]\n",
    "    assert max(actionDF.isna().sum()) == 0, \"NA action values not successfully removed?\"\n",
    "    return stateDF, actionDF\n",
    "    \n",
    "P2S, P2A = stateAndActionsForPlayer(1)\n",
    "print (P2S.values.shape, P2S.values.dtype)\n",
    "print (P2A.values.shape, P2A.values.dtype)"
   ]
  },
  {
   "cell_type": "code",
   "execution_count": null,
   "metadata": {},
   "outputs": [],
   "source": []
  },
  {
   "cell_type": "code",
   "execution_count": 12,
   "metadata": {},
   "outputs": [],
   "source": [
    "class MyModel(nn.Module):\n",
    "    def __init__(self, state_size, action_analog_size, action_digital_size):\n",
    "        super(MyModel, self).__init__()\n",
    "        \n",
    "        # Start with a super simple multi-layer perceptron, one hidden layer \n",
    "        self.dimH       = 32 # hidden layer has 16 dimensions\n",
    "        self.dimIn         = state_size\n",
    "        self.dimOutAnalog  = action_analog_size\n",
    "        self.dimOutDigital = action_digital_size\n",
    "        self.dimOut = action_analog_size + action_digital_size\n",
    "     \n",
    "        #self.inputToHidden = nn.Linear(self.dimIn, self.dimH)\n",
    "        #self.hiddenToAnalog = nn.Linear(self.dimH, action_analog_size)\n",
    "        #self.hiddenToDigitalPairs = nn.Linear(self.dimH, 2 * action_digital_size)\n",
    "\n",
    "        self.model = torch.nn.Sequential(\n",
    "           nn.Linear(self.dimIn, self.dimH),\n",
    "           nn.ReLU(),\n",
    "           nn.Linear(self.dimH, self.dimOut),\n",
    "        )\n",
    "        self.model.to(device)\n",
    "\n",
    "    def forward(self, x):\n",
    "        # input data type needs to be converted to float\n",
    "        return self.model(x.float())\n",
    "    \n",
    "        #hidden = self.inputToHidden(x.float())\n",
    "        #analogOut = self.hiddenToAnalog(hidden)\n",
    "        #digitalPairs = self.hiddenToDigitalPairs(hidden)\n",
    "        #pairsReshaped = digitalPairs.reshape([self.dimOutDigital, 2])\n",
    "        #digitalOut = F.softmax(pairsReshaped, dim=1)[0]\n",
    "        #return torch.cat((analogOut, digitalOut), dim=0)\n",
    "        \n",
    "    def save(self, modelID):\n",
    "        path = os.path.join(\"models\", \"%s.pt\" % modelID)\n",
    "        torch.save(self.state_dict(), path)\n",
    "        print('Saved model!\\n\\t%s' % path)\n",
    "        \n",
    "    def load(self, modelID):\n",
    "        path = os.path.join(\"models\", \"%s.pt\" % modelID)\n",
    "        self.load_state_dict(torch.load(path))\n",
    "        print('Loaded model!\\n\\t%s' % path)"
   ]
  },
  {
   "cell_type": "code",
   "execution_count": 13,
   "metadata": {},
   "outputs": [
    {
     "name": "stdout",
     "output_type": "stream",
     "text": [
      "[epoch    1/40] [iter   12920] [loss 1.41161]\n",
      "[epoch    2/40] [iter   25840] [loss 18.23954]\n",
      "[epoch    3/40] [iter   38760] [loss 7.33043]\n",
      "[epoch    4/40] [iter   51680] [loss 10.19734]\n",
      "[epoch    5/40] [iter   64600] [loss 19.69575]\n",
      "[epoch    6/40] [iter   77520] [loss 45.95639]\n",
      "[epoch    7/40] [iter   90440] [loss 1.19923]\n",
      "[epoch    8/40] [iter  103360] [loss 0.80727]\n",
      "[epoch    9/40] [iter  116280] [loss 0.84155]\n",
      "[epoch   10/40] [iter  129200] [loss 96.99391]\n",
      "[epoch   11/40] [iter  142120] [loss 2.22392]\n",
      "[epoch   12/40] [iter  155040] [loss 0.59453]\n",
      "[epoch   13/40] [iter  167960] [loss 62.77431]\n",
      "[epoch   14/40] [iter  180880] [loss 38.01086]\n",
      "[epoch   15/40] [iter  193800] [loss 1.58600]\n",
      "[epoch   16/40] [iter  206720] [loss 60.67512]\n",
      "[epoch   17/40] [iter  219640] [loss 18.93876]\n",
      "[epoch   18/40] [iter  232560] [loss 36.17719]\n",
      "[epoch   19/40] [iter  245480] [loss 41.29303]\n",
      "[epoch   20/40] [iter  258400] [loss 6.06814]\n",
      "[epoch   21/40] [iter  271320] [loss 40.54903]\n",
      "[epoch   22/40] [iter  284240] [loss 2.33982]\n",
      "[epoch   23/40] [iter  297160] [loss 1.76593]\n",
      "[epoch   24/40] [iter  310080] [loss 0.92405]\n",
      "[epoch   25/40] [iter  323000] [loss 40.08928]\n",
      "[epoch   26/40] [iter  335920] [loss 17.73384]\n",
      "[epoch   27/40] [iter  348840] [loss 5.93331]\n",
      "[epoch   28/40] [iter  361760] [loss 0.09497]\n",
      "[epoch   29/40] [iter  374680] [loss 14.36700]\n",
      "[epoch   30/40] [iter  387600] [loss 0.00434]\n",
      "[epoch   31/40] [iter  400520] [loss 7.16030]\n",
      "[epoch   32/40] [iter  413440] [loss 1.48539]\n",
      "[epoch   33/40] [iter  426360] [loss 0.27575]\n",
      "[epoch   34/40] [iter  439280] [loss 9.69726]\n",
      "[epoch   35/40] [iter  452200] [loss 3.46869]\n",
      "[epoch   36/40] [iter  465120] [loss 4.31158]\n",
      "[epoch   37/40] [iter  478040] [loss 4.29706]\n",
      "[epoch   38/40] [iter  490960] [loss 1.47718]\n",
      "[epoch   39/40] [iter  503880] [loss 65.12205]\n",
      "[epoch   40/40] [iter  516800] [loss 49.05190]\n",
      "Saved model!\n",
      "\tmodels\\boostOnly1v1.pt\n"
     ]
    }
   ],
   "source": [
    "TOTAL_EPOCHS = 40\n",
    "BATCH_SZ = 100\n",
    "#PRINT_INTERVAL = 1000\n",
    "LOG_INTERVAL = 1000\n",
    "LEARNING_RATE = 0.0001\n",
    "REGULARIZER_WEIGHT = 3e-4\n",
    "\n",
    "W_ALOSS = 100\n",
    "W_DLOSS = 50\n",
    "\n",
    "writer = SummaryWriter()\n",
    "\n",
    "def train_behavioral_cloning(dataBatches, model):\n",
    "    # Adam optimizer usually a good default.\n",
    "    optimizer = torch.optim.Adam(model.parameters(), lr=LEARNING_RATE, weight_decay=REGULARIZER_WEIGHT)\n",
    "    \n",
    "    # MSE loss for [-1, 1] continuous variables:\n",
    "    analog_loss_func = torch.nn.MSELoss().to(device)\n",
    "    \n",
    "    # Cross entropy loss for binary variables:\n",
    "    digital_loss_func = torch.nn.BCEWithLogitsLoss().to(device)# weight=torch.tensor(1.0), pos_weight=torch.tensor(1.0)).to(device)\n",
    "\n",
    "    gradient_steps = 0\n",
    "\n",
    "    for epoch in range(1, TOTAL_EPOCHS + 1):\n",
    "        batchShuffled = random.sample(dataBatches, len(dataBatches))\n",
    "        lastLoss = -1\n",
    "        for iteration, data in enumerate(batchShuffled):\n",
    "            data = {k: v.to(device) for k, v in data.items()}\n",
    "            #print (data)\n",
    "\n",
    "            output = model(data['state'])\n",
    "            analogAction = data['analogAction']\n",
    "            digitalAction = data['digitalAction']\n",
    "            aasz = len(PLAYER_ANALOG_ACTION_KEYS)\n",
    "\n",
    "            #loss = loss_function(output, data[\"action\"])\n",
    "            aLoss = W_ALOSS * analog_loss_func(output[:aasz], analogAction)\n",
    "            dLoss = W_DLOSS * digital_loss_func(output[aasz:], digitalAction)\n",
    "            loss = aLoss + dLoss\n",
    "            #print (aLoss, dLoss, loss)\n",
    "            #loss = dLoss\n",
    "            #print (output[aasz:], digitalAction)\n",
    "            #print (loss.item())\n",
    "\n",
    "            optimizer.zero_grad()\n",
    "            loss.backward()\n",
    "            optimizer.step()\n",
    "\n",
    "            #if gradient_steps % PRINT_INTERVAL == 0:\n",
    "            #    print('[epoch {:4d}/{}] [iter {:7d}] [loss {:.5f}]'\n",
    "            #        .format(epoch, TOTAL_EPOCHS, gradient_steps, loss.item()))\n",
    "            if gradient_steps % LOG_INTERVAL == 0:\n",
    "                writer.add_scalar('analogLoss', aLoss.item(), gradient_steps)\n",
    "                writer.add_scalar('digitalLoss', dLoss.item(), gradient_steps)\n",
    "                writer.add_scalar('loss', loss.item(), gradient_steps)\n",
    "            \n",
    "            gradient_steps += 1\n",
    "            \n",
    "            if iteration == len(batchShuffled) - 1:\n",
    "                lastLoss = loss.item()\n",
    "            \n",
    "        print ('[epoch {:4d}/{}] [iter {:7d}] [loss {:.5f}]'.format(\n",
    "           epoch, TOTAL_EPOCHS, gradient_steps, lastLoss)\n",
    "        )\n",
    "\n",
    "        #if epoch % TEST_INTERVAL == 0:\n",
    "        #    score = eval_policy(policy=model, env=ENV_NAME)\n",
    "        #    print('[Test on environment] [epoch {}/{}] [score {:.2f}]'\n",
    "        #        .format(epoch, TOTAL_EPOCHS, score))\n",
    "\n",
    "\n",
    "    # Force directory to be same as this file.\n",
    "    #model_name = \"behavioral_cloning_{}.pt\".format(ENV_NAME)\n",
    "    #fullPath = os.path.join(os.path.dirname(__file__), model_name)\n",
    "    #torch.save(model.state_dict(), fullPath)\n",
    "    #print('Saving model to {}'.format(fullPath))\n",
    "    \n",
    "    \n",
    "random.seed(1234)\n",
    "def dataToBatches(states, actions, batchSz, history):\n",
    "    nRows = states.shape[0]\n",
    "    stateSz = states.shape[1] * history\n",
    "    actionAnalogSz = len(PLAYER_ANALOG_ACTION_KEYS)\n",
    "\n",
    "    actionOrder = list(range(history, nRows))\n",
    "    random.shuffle(actionOrder)\n",
    "    \n",
    "    dataBatches = []\n",
    "    for i in range(0, len(actionOrder), batchSz):\n",
    "        nInBatch = min(batchSz, len(actionOrder) - i)\n",
    "        for j in range(nInBatch):\n",
    "            actionAfter = actionOrder[i + j] # one after the time point we're predicting\n",
    "            action = actions.iloc[actionAfter-1, :].values\n",
    "            analogAction = action[:actionAnalogSz].astype(np.float32)\n",
    "            if (len(np.where(np.isnan(analogAction))[0]) > 0):\n",
    "                print (\"BAD ACTION! \", actions.iloc[actionAfter-1, :])\n",
    "            statesWithHistory = states.iloc[actionAfter - history:actionAfter, :].values.ravel()\n",
    "            dataBatches.append({\n",
    "                'state': torch.from_numpy(statesWithHistory).float(),\n",
    "                'analogAction': torch.from_numpy(action[:actionAnalogSz].astype(np.float32)).float(),\n",
    "                'digitalAction': torch.from_numpy(action[actionAnalogSz:].astype(np.bool)).float()\n",
    "            })\n",
    "            \n",
    "    return dataBatches, stateSz, actionAnalogSz, len(PLAYER_DIGITAL_ACTION_KEYS)\n",
    "    \n",
    "\n",
    "def runTraining():    \n",
    "    dataBatches, stateSz, actionAnalogSz, actionDigitalSize = dataToBatches(P2S, P2A, 50, 1)\n",
    "    model = MyModel(stateSz, actionAnalogSz, actionDigitalSize)\n",
    "    train_behavioral_cloning(dataBatches, model)\n",
    "    model.save(\"boostOnly1v1\")\n",
    "    return model\n",
    "\n",
    "model = runTraining()\n"
   ]
  },
  {
   "cell_type": "code",
   "execution_count": 14,
   "metadata": {},
   "outputs": [
    {
     "name": "stdout",
     "output_type": "stream",
     "text": [
      "['b_pos_x', 'b_pos_y', 'b_pos_z', 'me_pos_x', 'me_pos_y', 'me_pos_z', 'me_vel_x', 'me_vel_y', 'me_vel_z', 'me_rot_x', 'me_rot_y', 'me_rot_z', 'me_ang_vel_x', 'me_ang_vel_y', 'me_ang_vel_z', 'me_boost', 'e0_pos_x', 'e0_pos_y', 'e0_pos_z', 'e0_vel_x', 'e0_vel_y', 'e0_vel_z', 'e0_rot_x', 'e0_rot_y', 'e0_rot_z', 'e0_ang_vel_x', 'e0_ang_vel_y', 'e0_ang_vel_z', 'e0_boost']\n"
     ]
    }
   ],
   "source": [
    "print (list(P2S.head(1)))"
   ]
  },
  {
   "cell_type": "code",
   "execution_count": null,
   "metadata": {},
   "outputs": [],
   "source": []
  }
 ],
 "metadata": {
  "kernelspec": {
   "display_name": "Python 3",
   "language": "python",
   "name": "python3"
  },
  "language_info": {
   "codemirror_mode": {
    "name": "ipython",
    "version": 3
   },
   "file_extension": ".py",
   "mimetype": "text/x-python",
   "name": "python",
   "nbconvert_exporter": "python",
   "pygments_lexer": "ipython3",
   "version": "3.8.1"
  }
 },
 "nbformat": 4,
 "nbformat_minor": 4
}
