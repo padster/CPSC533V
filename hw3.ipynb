{
 "cells": [
  {
   "cell_type": "markdown",
   "metadata": {},
   "source": [
    "<!--\n",
    "authors: Matthew Wilson, Daniele Reda\n",
    "created: 2020/01/14\n",
    "last_updated: 2020/01/27\n",
    "-->\n",
    "\n",
    "\n",
    "## CPSC 533V: Assignment 3 - Tabular Q Learning using OpenAI Gym environments"
   ]
  },
  {
   "cell_type": "markdown",
   "metadata": {},
   "source": [
    "---\n",
    "\n",
    "##  Tabular Q-Learning\n",
    "\n",
    "Tabular Q-learning is an RL algorithm for problems with discrete states and discrete actions. The algorithm is described in the class notes, which borrows the summary description from [Section 6.5](http://incompleteideas.net/book/RLbook2018.pdf#page=153) of Richard Sutton's RL book. In the tabular approach, the Q-value is represented as a lookup table. As discussed in class, Q-learning can further be extended to continuous states and discrete actions, leading to the [Atari DQN](https://arxiv.org/abs/1312.5602) / Deep Q-learning algorithm.  However, it is important and informative to first fully understand tabular Q-learning.\n",
    "\n",
    "Informally, Q-learning works as follows: The goal is to the perfectly learn the optimal Q-function: \n",
    "`Q(s,a)`, which is the *value* of being at state `s` and taking action `a`.  Q tells you how well you expect to do, on average, from here on out, given that you act optimally.  Once the Q function is learned, choosing an optimal action is as simple as looping over all possible actions and choosing the one with the highest Q (optimal action $a^* = \\text{max}_a Q(s,a)$).  To learn Q, we initialize it arbitrarily and then iteratively refine it using the Bellman backup equation for Q functions, namely: \n",
    "$Q(s,a) \\leftarrow Q(s,a) + \\alpha [r + \\gamma \\text{max}_a Q(s', a) - Q(s,a)]$.\n",
    "Here, $r$ is the reward associated with with the transition from state s to s', and $\\alpha$ is a learning rate.\n",
    "\n",
    "In this assignment you will implement tabular Q-learning and apply it to CartPole -- an environment with a **continuous** state space.  To apply the tabular method, you will need to discretize the CartPole state space by dividing the state-space into bins.\n",
    "\n",
    "\n",
    "**Assignment goals:**\n",
    "- to become familiar with python/numpy, as well as using an OpenAI Gym environment\n",
    "- to understand tabular Q-learning, by implementing tabular Q-Learning for \n",
    "  a discretized version of a continuous-state environment, and experimenting with the implementation\n",
    "- (optional) to develop further intuition regarding possible variations of the algorithm"
   ]
  },
  {
   "cell_type": "markdown",
   "metadata": {},
   "source": [
    "## Introduction\n",
    "Deep reinforcement learning has generated impressive results for board games ([Go][go], [Chess/Shogi][chess]), video games ([Atari][atari], , [DOTA2][dota], [StarCraft II][scii]), [and][baoding] [robotic][rubix] [control][anymal] ([of][cassie] [course][mimic] ;)).  RL is beginning to work for an increasing range of tasks and capabilities.  At the same time, there are many [gaping holes][irpan] and [difficulties][amid] in applying these methods. Understanding deep RL is important if you wish to have a good grasp of the modern landscape of control methods.\n",
    "\n",
    "These next several assignments are designed to get you started with deep reinforcement learning, to give you a more close and personal understanding of the methods, and to provide you with a good starting point from which you can branch out into topics of interest. You will implement basic versions of some of the important fundamental algorithms in this space, including Q-learning and policy gradient/search methods.\n",
    "\n",
    "We will only have time to cover a subset of methods and ideas in this space.\n",
    "If you want to dig deeper, we suggest following the links given on the course webpage.  Additionally we draw special attention to the [Sutton book](http://incompleteideas.net/book/RLbook2018.pdf) for RL fundamentals and in depth coverage, and OpenAI's [Spinning Up resources](https://spinningup.openai.com/en/latest/spinningup/rl_intro.html) for a concise intro to RL and deep RL concepts, as well as good comparisons and implementations of modern deep RL algorithms.\n",
    "\n",
    "\n",
    "[atari]: https://arxiv.org/abs/1312.5602\n",
    "[go]: https://deepmind.com/research/case-studies/alphago-the-story-so-far\n",
    "[chess]:https://deepmind.com/blog/article/alphazero-shedding-new-light-grand-games-chess-shogi-and-go \n",
    "[dota]: https://openai.com/blog/openai-five/\n",
    "[scii]: https://deepmind.com/blog/article/AlphaStar-Grandmaster-level-in-StarCraft-II-using-multi-agent-reinforcement-learning\n",
    "[baoding]: https://bair.berkeley.edu/blog/2019/09/30/deep-dynamics/\n",
    "[rubix]: https://openai.com/blog/solving-rubiks-cube/\n",
    "[cassie]: https://www.cs.ubc.ca/~van/papers/2019-CORL-cassie/index.html\n",
    "[mimic]: https://www.cs.ubc.ca/~van/papers/2018-TOG-deepMimic/index.html\n",
    "[anymal]: https://arxiv.org/abs/1901.08652\n",
    "\n",
    "\n",
    "[irpan]: https://www.alexirpan.com/2018/02/14/rl-hard.html\n",
    "[amid]: http://amid.fish/reproducing-deep-rl\n",
    "\n"
   ]
  },
  {
   "cell_type": "code",
   "execution_count": 1,
   "metadata": {},
   "outputs": [],
   "source": [
    "#!pip install gym  # uncomment if necesary\n",
    "#!pip install numpy\n",
    "import time\n",
    "import itertools\n",
    "import numpy as np\n",
    "import gym\n",
    "\n",
    "from tqdm import tqdm_notebook"
   ]
  },
  {
   "cell_type": "markdown",
   "metadata": {},
   "source": [
    "---\n",
    "\n",
    "## 1. Explore the CartPole environment [18 pts]\n",
    "\n",
    "Your first task is to familiarize yourself with the OpenAI gym interface and the [CartPole environment]( https://github.com/openai/gym/blob/master/gym/envs/classic_control/cartpole.py)\n",
    "by writing a simple hand-coded policy to try to solve it.  \n",
    "To begin understanding OpenAI Gym environments, [read this first](https://gym.openai.com/docs/).) \n",
    "The gym interface is very popular and you will see many algorithm implementations and \n",
    "custom environments that support it.  You may even want to use the API in your course projects, \n",
    "to define a custom environment for a task you want to solve.\n",
    "\n",
    "Below is some example code that runs a simple random policy.  You are to:\n",
    "- **run the code to see what it does**\n",
    "- **write code that chooses an action based on the observation**.  You will need to learn about the gym API and to read the CartPole documentation to figure out what the `action` and `obs` vectors mean for this environment. \n",
    "Your hand-coded policy can be arbitrary, and it should ideally do better than the random policy.  There is no single correct answer. The goal is to become familiar with `env`s.\n",
    "- **write code to print out the total reward gained by your policy in a single episode run**\n",
    "- **answer the short-response questions below** (see the TODOs for all of this)"
   ]
  },
  {
   "cell_type": "code",
   "execution_count": 2,
   "metadata": {},
   "outputs": [
    {
     "name": "stderr",
     "output_type": "stream",
     "text": [
      "C:\\Users\\User\\Anaconda3\\envs\\pynt\\lib\\site-packages\\gym\\logger.py:30: UserWarning: WARN: Box bound precision lowered by casting to float32\n",
      "  warnings.warn(colorize('%s: %s'%('WARN', msg % args), 'yellow'))\n"
     ]
    },
    {
     "name": "stdout",
     "output_type": "stream",
     "text": [
      "observation space: Box(4,)\n",
      "action space: Discrete(2)\n"
     ]
    }
   ],
   "source": [
    "env = gym.make('CartPole-v1')  # you can also try LunarLander-v2, but make sure to change it back\n",
    "print('observation space:', env.observation_space)\n",
    "print('action space:', env.action_space)\n",
    "\n",
    "# To find out what the observations mean, read the CartPole documentation.\n",
    "# Uncomment the lines below, or visit the source file: \n",
    "# https://github.com/openai/gym/blob/master/gym/envs/classic_control/cartpole.py\n",
    "\n",
    "cartpole = env.unwrapped\n",
    "# cartpole?"
   ]
  },
  {
   "cell_type": "code",
   "execution_count": 3,
   "metadata": {},
   "outputs": [
    {
     "data": {
      "application/vnd.jupyter.widget-view+json": {
       "model_id": "",
       "version_major": 2,
       "version_minor": 0
      },
      "text/plain": [
       "HBox(children=(IntProgress(value=0, max=1000), HTML(value='')))"
      ]
     },
     "metadata": {},
     "output_type": "display_data"
    },
    {
     "name": "stdout",
     "output_type": "stream",
     "text": [
      "Random pick, av reward: 22.2800\n"
     ]
    },
    {
     "data": {
      "application/vnd.jupyter.widget-view+json": {
       "model_id": "",
       "version_major": 2,
       "version_minor": 0
      },
      "text/plain": [
       "HBox(children=(IntProgress(value=0, max=1000), HTML(value='')))"
      ]
     },
     "metadata": {},
     "output_type": "display_data"
    },
    {
     "name": "stdout",
     "output_type": "stream",
     "text": [
      "Simple pick, av reward: 42.3470\n"
     ]
    }
   ],
   "source": [
    "# 1.1 [10pts]\n",
    "\n",
    "# Random action:\n",
    "def randomPick(env, lastObs):\n",
    "    return env.action_space.sample() # random action\n",
    "\n",
    "# Go left if pole is tilting left, otherwise go right:\n",
    "def simplePick(env, lastObs):\n",
    "    theta = lastObs[2]\n",
    "    return 0 if theta < 0 else 1\n",
    "\n",
    "def runOnce(actionPickFunc, drawTime=None, updateFunc=None):\n",
    "    rewardSum = 0\n",
    "\n",
    "    # runs a single episode and render it.  try running this before editing anything\n",
    "    obs = env.reset()  # get first obs/state\n",
    "    while True:\n",
    "        lastObs = obs\n",
    "        action = actionPickFunc(env, obs)\n",
    "        obs, reward, done, info = env.step(action)\n",
    "        rewardSum += reward\n",
    "        \n",
    "        # Used later for Q-learning\n",
    "        if updateFunc is not None:\n",
    "            updateFunc(lastObs, action, reward, obs)\n",
    "\n",
    "        if drawTime is not None:\n",
    "            env.render()\n",
    "            time.sleep(drawTime)  # so it doesn't render too quickly\n",
    "        if done: break\n",
    "            \n",
    "    return rewardSum\n",
    "\n",
    "def getAverageReward(actionPickFunc, nRuns=1000, drawTime=None, updateFunc=None):\n",
    "    if drawTime is not None:\n",
    "        assert nRuns < 50 # Takes too long...\n",
    "        \n",
    "    allRewards = np.zeros(nRuns)\n",
    "    for i in tqdm_notebook(range(nRuns), leave=False):\n",
    "        allRewards[i] = runOnce(actionPickFunc, drawTime, updateFunc)\n",
    "    env.close()\n",
    "    return np.mean(allRewards)\n",
    "\n",
    "# TODO: print out your total sum of rewards here\n",
    "print (\"Random pick, av reward: %.4f\" % getAverageReward(randomPick))\n",
    "print (\"Simple pick, av reward: %.4f\" % getAverageReward(simplePick))"
   ]
  },
  {
   "cell_type": "markdown",
   "metadata": {},
   "source": [
    "To answer the questions below, look at the full [source code here](https://github.com/openai/gym/blob/master/gym/envs/classic_control/cartpole.py) if you haven't already.\n",
    "\n",
    "\n",
    "**1.2. [2pts] Describe the observation and action spaces of CartPole.  What do each of the values mean/do?**"
   ]
  },
  {
   "cell_type": "markdown",
   "metadata": {},
   "source": [
    "4 types of observations:\n",
    "\n",
    "1. Position (x) of the cart\n",
    "1. Velocity (v) = dx/dt\n",
    "1. Angle of the pole ($\\theta$), in radians from upright\n",
    "1. Angular velocity of the pole ($\\omega$)\n",
    "\n",
    "Action space is a discrete space with two options (i.e. equivalent to boolean): either going left or right at each point."
   ]
  },
  {
   "cell_type": "markdown",
   "metadata": {},
   "source": [
    "**1.3. [2pts] What distribution is used to sample initial states? (see the `reset` function)** "
   ]
  },
  {
   "cell_type": "markdown",
   "metadata": {},
   "source": [
    "All four values are picked at random uniformly from -0.05 to 0.05"
   ]
  },
  {
   "cell_type": "markdown",
   "metadata": {},
   "source": [
    "**1.4. [2pts] What is the termination condition, which determines if the `env` is `done`?** "
   ]
  },
  {
   "cell_type": "markdown",
   "metadata": {},
   "source": [
    "Either the cart has moved too far ($|x| > 2.4$) or the pole has dipped too far ($|\\theta| > 12^o$), or if neither, then stops after 200 steps."
   ]
  },
  {
   "cell_type": "markdown",
   "metadata": {},
   "source": [
    "**1.5. [2pts] Briefly describe your policy.  What observation information does it use?  What score did you achieve (rough maximum and average)?  And how does it compare to the random policy?**"
   ]
  },
  {
   "cell_type": "markdown",
   "metadata": {},
   "source": [
    "My policy: If the pole is tilting left ($\\theta < 0), then move left, otherwise move right.\n",
    "On average it scores ~42, rather than ~22 for the random policy"
   ]
  },
  {
   "cell_type": "markdown",
   "metadata": {},
   "source": [
    "---\n",
    "\n",
    "## 2. Discretize the env [32 pts]\n",
    "\n",
    "Next, we need to discretize CartPole's continuous state space to work for tabular Q-learning.  While this is in part  a contrived usage of tabular methods, given the existence of other approaches that are designed to cope with continuous state-spaces, it is also interesting to consider whether tabular methods can be adapted more directly via discretization of the state into bins. Furthermore, tabular methods are simple, interpretabile, and can be proved to converge, and thus they still remain relevant.\n",
    "\n",
    "Your task is to discretize the state/observation space so that it is compatible with tabular Q-learning.  To do this:\n",
    "- **implement `obs_normalizer` to pass its test**\n",
    "- **implement `get_bins` to pass its test**\n",
    "- **then answer question 2.3**\n",
    "\n",
    "[map]: https://arxiv.org/abs/1504.04909\n",
    "[qd]: https://quality-diversity.github.io/"
   ]
  },
  {
   "cell_type": "code",
   "execution_count": 34,
   "metadata": {},
   "outputs": [],
   "source": [
    "def logistic(x):\n",
    "    #return 1 / (1 + np.exp(-x))\n",
    "    return np.cbrt(np.cbrt(x)) + 0.5\n",
    "\n",
    "LIMITS = (1.4, 3, 0.3, 3)\n",
    "\n",
    "def normToRange(v, limit):\n",
    "    if v <= -limit:\n",
    "        return 0\n",
    "    if v >= limit:\n",
    "        return 1\n",
    "    \n",
    "    # -limit -> 0\n",
    "    #   0    -> 0.5\n",
    "    # limit  -> 1\n",
    "    \n",
    "    sigLim = logistic(limit)\n",
    "    # -limit -> -sigLim, 0 -> 0, limit -> sigLim\n",
    "    sig = logistic(v) - 0.5\n",
    "    # -limit -> -0.5, 0 -> 0, limit -> 0.5\n",
    "    sig = (sig / sigLim) * 0.5\n",
    "    # -limit -> 0, 0 -> 0.5, limit -> 1.0\n",
    "    sig = sig + 0.5\n",
    "    return sig\n",
    "    \n",
    "\n",
    "# 2.1 [15pts for passing test_normed]\n",
    "def obs_normalizer(obs):\n",
    "    \"\"\"Normalize the observations between 0 and 1\n",
    "    \n",
    "    If the observation has extremely large bounds, then clip to a reasonable range before normalizing; \n",
    "    (-2,2) should work.  (It is ok if the solution is specific to CartPole)\n",
    "    \n",
    "    Args:\n",
    "        obs (np.ndarray): shape (4,) containing an observation from CartPole using the bound of the env\n",
    "    Returns:\n",
    "        normed (np.ndarray): shape (4,) where all elements are roughly uniformly mapped to the range [0, 1]\n",
    "    \n",
    "    \"\"\"\n",
    "    normed = np.zeros(obs.shape)\n",
    "    for i in range(len(obs)):\n",
    "        normed[i] = normToRange(obs[i], LIMITS[i])\n",
    "    return normed\n",
    "    # HINT: check out env.observation_space.high, env.observation_space.low\n",
    "    # return logistic(obs)"
   ]
  },
  {
   "cell_type": "code",
   "execution_count": 35,
   "metadata": {},
   "outputs": [
    {
     "name": "stdout",
     "output_type": "stream",
     "text": [
      "Passed!\n"
     ]
    }
   ],
   "source": [
    "### TEST 2.1\n",
    "def test_normed():\n",
    "    obs = env.reset()\n",
    "    while True:\n",
    "        obs, _, done, _ =  env.step(env.action_space.sample())\n",
    "        normed = obs_normalizer(obs) \n",
    "        assert np.all(normed >= 0.0) and np.all(normed <= 1.0), '{} are outside of (0,1)'.format(normed)\n",
    "        if done: break\n",
    "    env.close()\n",
    "    print('Passed!')\n",
    "test_normed()"
   ]
  },
  {
   "cell_type": "code",
   "execution_count": 36,
   "metadata": {},
   "outputs": [],
   "source": [
    "# 2.2 [15pts for passing test_binned]\n",
    "def get_bins(normed, num_bins):\n",
    "    \"\"\"Map normalized observations (0,1) to bin index values (0,num_bins-1)\n",
    "    \n",
    "    Args:\n",
    "        normed (np.ndarray): shape (4,) output from obs_normalizer\n",
    "        num_bins (int): how many bins to use\n",
    "    Returns:\n",
    "        binned (np.ndarray): shape (4,) where all elements are values in range [0,num_bins-1]\n",
    "    \n",
    "    \"\"\"\n",
    "    bins = np.zeros(normed.shape)\n",
    "    bins[normed == 0] = 0\n",
    "    bins[normed == 1] = num_bins-1\n",
    "    \n",
    "    # (0, 1) => [1, num_bins - 2]\n",
    "    other = (0 < normed) & (normed < 1)\n",
    "    bins[other] = np.floor(normed[other] * (num_bins - 2)) + 1\n",
    "    return bins.astype(int)"
   ]
  },
  {
   "cell_type": "code",
   "execution_count": 37,
   "metadata": {},
   "outputs": [
    {
     "name": "stdout",
     "output_type": "stream",
     "text": [
      "Passed!\n"
     ]
    }
   ],
   "source": [
    "### TEST 2.2\n",
    "obs = env.reset()\n",
    "env.close()\n",
    "\n",
    "def test_binned(num_bins):\n",
    "    normed = np.array([0.0, 0.2, 0.8, 1.0])\n",
    "    binned = get_bins(normed, num_bins)\n",
    "    assert np.all(binned >= 0) and np.all(binned < num_bins), '{} supposed to be between (0, {})'.format(binned, num_bins-1)\n",
    "    \n",
    "test_binned(5)\n",
    "test_binned(10)\n",
    "test_binned(50)\n",
    "print('Passed!')"
   ]
  },
  {
   "cell_type": "markdown",
   "metadata": {},
   "source": [
    "**2.3. [2 pts] If your state has 4 values and each is binned into N possible bins, how many bins are needed to represent all unique possible states)?**  (yes, this is an easy question)\n",
    "\n"
   ]
  },
  {
   "cell_type": "markdown",
   "metadata": {},
   "source": [
    "$N * N * N * N = N^4$"
   ]
  },
  {
   "cell_type": "markdown",
   "metadata": {},
   "source": [
    "---\n",
    "\n",
    "## 3. Solve the env [30pts] \n",
    "\n",
    "Using the pseudocode below and the functions you implemented above, implement tabular Q-learning and use it to solve CartPole.\n",
    "\n",
    "We provide setup code to initialize the Q-table and give examples of interfacing with it. Write the inner and outer loops to train your algorithm.  These training loops will be similar to those deep RL approaches, so get used to writing them!\n",
    "\n",
    "The algorithm (excerpted from Section 6.5 of [Sutton's book](http://incompleteideas.net/book/RLbook2018.pdf)) is given below:\n",
    "\n",
    "![Sutton RL](https://i.imgur.com/mdcWVRL.png)\n",
    "\n",
    "in summary:\n",
    "- **implement Q-learning using this pseudocode and the helper code**\n",
    "- **answer the questions below**\n",
    "- **run the suggested experiments and otherwise experiment with whatever interests you**"
   ]
  },
  {
   "cell_type": "code",
   "execution_count": 38,
   "metadata": {},
   "outputs": [],
   "source": [
    "# setup (see last few lines for how to use the Q-table)\n",
    "\n",
    "def setupQ(initQ, num_bins=10, alpha=0.1, gamma=0.99, log_n=1000, eps=0.05):\n",
    "    # hyper parameters. feel free to change these as desired and experiment with different values\n",
    "    num_bins = 10\n",
    "    alpha = 0.1\n",
    "    gamma = 0.99\n",
    "    log_n = 1000\n",
    "    # epsilon greedy\n",
    "    eps = 0.05  #usage: action = optimal if np.random.rand() > eps else random\n",
    "\n",
    "    obs = env.reset()\n",
    "\n",
    "    # helper function to convert observation into a binned state so we can index into our Q-table\n",
    "    obs2bin = lambda obs: tuple(get_bins(obs_normalizer(obs), num_bins=num_bins))\n",
    "\n",
    "    s = obs2bin(obs)\n",
    "\n",
    "    print('Shape of Q Table: ', initQ.shape) # you can imagine why tabular learning does not scale very well\n",
    "    print('Original obs {} --> binned {}'.format(obs, s))\n",
    "    print('Value of Q Table at that obs/state value', initQ[s])\n",
    "    \n",
    "    return obs2bin"
   ]
  },
  {
   "cell_type": "code",
   "execution_count": 39,
   "metadata": {},
   "outputs": [],
   "source": [
    "# 3.1 [30 pts]\n",
    "\n",
    "# TODO: implement Q learning, following the pseudo-code above. \n",
    "#     - you can follow it almost exactly, but translating things for the gym api and our code used above\n",
    "#     - make sure to use e-greedy, where e = random about 0.05 percent of the time\n",
    "#     - make sure to do the S <-- S' step because it can be easy to forget\n",
    "#     - every log_n steps, you should render your environment and\n",
    "#       print out the average total episode rewards of the past log_n runs to monitor how your agent trains\n",
    "#      (your implementation should be able to break at least +150 average reward value, and you can use that \n",
    "#       as a breaking condition.  It make take several minutes to run depending on your computer.)"
   ]
  },
  {
   "cell_type": "code",
   "execution_count": 40,
   "metadata": {},
   "outputs": [
    {
     "data": {
      "application/javascript": [
       "IPython.OutputArea.auto_scroll_threshold = 9999;\n"
      ],
      "text/plain": [
       "<IPython.core.display.Javascript object>"
      ]
     },
     "metadata": {},
     "output_type": "display_data"
    }
   ],
   "source": [
    "%%javascript\n",
    "IPython.OutputArea.auto_scroll_threshold = 9999;"
   ]
  },
  {
   "cell_type": "code",
   "execution_count": 45,
   "metadata": {},
   "outputs": [
    {
     "name": "stdout",
     "output_type": "stream",
     "text": [
      "Shape of Q Table:  (10, 10, 10, 10, 2)\n",
      "Original obs [0.03023839 0.02492318 0.01256464 0.04109579] --> binned (6, 6, 6, 6)\n",
      "Value of Q Table at that obs/state value [0.93821491 0.61145383]\n"
     ]
    },
    {
     "data": {
      "application/vnd.jupyter.widget-view+json": {
       "model_id": "",
       "version_major": 2,
       "version_minor": 0
      },
      "text/plain": [
       "HBox(children=(IntProgress(value=0, max=1000), HTML(value='')))"
      ]
     },
     "metadata": {},
     "output_type": "display_data"
    },
    {
     "name": "stdout",
     "output_type": "stream",
     "text": [
      "28.022\n"
     ]
    },
    {
     "data": {
      "image/png": "[encoded data removed]",
      "text/plain": [
       "<Figure size 1152x1152 with 4 Axes>"
      ]
     },
     "metadata": {
      "needs_background": "light"
     },
     "output_type": "display_data"
    },
    {
     "data": {
      "image/png": "[encoded data removed]",
      "text/plain": [
       "<Figure size 1152x1152 with 4 Axes>"
      ]
     },
     "metadata": {
      "needs_background": "light"
     },
     "output_type": "display_data"
    },
    {
     "name": "stdout",
     "output_type": "stream",
     "text": [
      "Shape of Q Table:  (10, 10, 10, 10, 2)\n",
      "Original obs [-0.04169625 -0.03034753  0.0039724  -0.02382357] --> binned (3, 3, 6, 3)\n",
      "Value of Q Table at that obs/state value [ 0.88636072 26.61851254]\n"
     ]
    },
    {
     "data": {
      "application/vnd.jupyter.widget-view+json": {
       "model_id": "",
       "version_major": 2,
       "version_minor": 0
      },
      "text/plain": [
       "HBox(children=(IntProgress(value=0, max=1000), HTML(value='')))"
      ]
     },
     "metadata": {},
     "output_type": "display_data"
    },
    {
     "name": "stdout",
     "output_type": "stream",
     "text": [
      "Best R:  28.799\n"
     ]
    }
   ],
   "source": [
    "# Convert (S, A) to a tuple for indexing into Q\n",
    "def saTuple(s, a):\n",
    "    return tuple(s) + (a,)\n",
    "\n",
    "# Initialize Q\n",
    "def buildQ(num_bins):\n",
    "    qShape = [num_bins]*len(obs)+[env.action_space.n]\n",
    "    Q = np.random.uniform(low=0, high=1, size=qShape)\n",
    "    # Boundary bins:\n",
    "    Q[ 0,  :,  :,  :, 0] = 0\n",
    "    Q[ 0,  :,  :,  :, 1] = 0\n",
    "    Q[-1,  :,  :,  :, 0] = 0\n",
    "    Q[-1,  :,  :,  :, 1] = 0\n",
    "    Q[ :,  0,  :,  :, 0] = 0\n",
    "    Q[ :,  0,  :,  :, 1] = 0\n",
    "    Q[ :, -1,  :,  :, 0] = 0\n",
    "    Q[ :, -1,  :,  :, 1] = 0\n",
    "    Q[ :,  :,  0,  :, 0] = 0\n",
    "    Q[ :,  :,  0,  :, 1] = 0\n",
    "    Q[ :,  :, -1,  :, 0] = 0\n",
    "    Q[ :,  :, -1,  :, 1] = 0\n",
    "    Q[ :,  :,  :,  0, 0] = 0\n",
    "    Q[ :,  :,  :,  0, 1] = 0\n",
    "    Q[ :,  :,  :, -1, 0] = 0\n",
    "    Q[ :,  :,  :, -1, 1] = 0\n",
    "    return Q\n",
    "\n",
    "def getAverageQReward(num_bins=10, alpha=0.1, gamma=0.99, log_n=1000, eps=0.05, initQ=None):\n",
    "    # set eps to None for purely greedy\n",
    "    Q = initQ if initQ is not None else buildQ(num_bins)\n",
    "    obs2bin = setupQ(Q, num_bins, alpha, gamma, log_n, eps)\n",
    "    \n",
    "    # action = optimal if np.random.rand() > eps else random\n",
    "    def epsGreedyPickFunc(env, lastObs):\n",
    "        # random pick:\n",
    "        if eps is not None and np.random.random() <= eps:\n",
    "            return randomPick(env, lastObs)\n",
    "        # otherwise, best:\n",
    "        else:\n",
    "            bins = obs2bin(lastObs)\n",
    "            q0 = Q[saTuple(bins, 0)]\n",
    "            q1 = Q[saTuple(bins, 1)]\n",
    "            return 0 if q0 >= q1 else 1\n",
    "\n",
    "    # Update Q\n",
    "    def qUpdate(s_old, a, r, s_new):\n",
    "        b_old, b_new = obs2bin(s_old), obs2bin(s_new)\n",
    "        _observedBins.append(b_old)\n",
    "        _observedStates.append(s_old)\n",
    "        t_old = saTuple(b_old, a)\n",
    "\n",
    "        maxQ = max(Q[saTuple(b_new, 0)], Q[saTuple(b_new, 1)])\n",
    "        Q[t_old] += alpha * (r + gamma * maxQ - Q[t_old])        \n",
    "        \n",
    "        #if b_old[0] == 3 and b_old[2] == 3:\n",
    "        #    f, ax = plt.subplots(1, 2)\n",
    "        #    ax[0].imshow(Q[3, :, 3, :, 0])\n",
    "        #    ax[1].imshow(Q[3, :, 3, :, 1])\n",
    "        #    plt.show()\n",
    "\n",
    "    _observedBins = []\n",
    "    _observedStates = []\n",
    "    reward = getAverageReward(epsGreedyPickFunc, updateFunc=qUpdate, nRuns=1000)\n",
    "    return reward, Q, np.array(_observedBins), np.array(_observedStates)\n",
    "\n",
    "nBins=10\n",
    "_r, _q, oBins, oStates = getAverageQReward(num_bins=nBins)\n",
    "print (_r)\n",
    "\n",
    "\n",
    "import matplotlib.pyplot as plt\n",
    "\n",
    "f, ax = plt.subplots(2, 2, figsize=(16, 16))\n",
    "f.suptitle(\"Observed states:\")\n",
    "ax[0][0].hist(oStates[:, 0], log=True, bins=2*nBins)\n",
    "ax[0][1].hist(oStates[:, 1], log=True, bins=2*nBins)\n",
    "ax[1][0].hist(oStates[:, 2], log=True, bins=2*nBins)\n",
    "ax[1][1].hist(oStates[:, 3], log=True, bins=2*nBins)\n",
    "plt.show()\n",
    "\n",
    "\n",
    "f, ax = plt.subplots(2, 2, figsize=(16, 16))\n",
    "f.suptitle(\"Observed bins:\")\n",
    "ax[0][0].hist(oBins[:, 0], log=True, bins=nBins)\n",
    "ax[0][1].hist(oBins[:, 1], log=True, bins=nBins)\n",
    "ax[1][0].hist(oBins[:, 2], log=True, bins=nBins)\n",
    "ax[1][1].hist(oBins[:, 3], log=True, bins=nBins)\n",
    "plt.show()\n",
    "\n",
    "\n",
    "bestRun, _, _, _ = getAverageQReward(num_bins=nBins, eps=None, initQ = _q)\n",
    "print (\"Best R: \", bestRun)\n"
   ]
  },
  {
   "cell_type": "markdown",
   "metadata": {},
   "source": [
    "## 4. Experiments [20 pts]\n",
    "\n",
    "Given a working algorithm, you will run a few experiments.  Either make a copy of your code above to modify, or make the modifications in a way that they can be commented out or switched between (with boolean flag if statements)."
   ]
  },
  {
   "cell_type": "markdown",
   "metadata": {},
   "source": [
    "**4.2. [10pts] $\\epsilon$-greedy.**  How sensitive are the results to the value of $\\epsilon$?   First, write down your prediction of what would happen if $\\epsilon$ is set to various values, including for example [0, 0.05, 0.25, 0.5]."
   ]
  },
  {
   "cell_type": "markdown",
   "metadata": {},
   "source": [
    "TODO: answer here"
   ]
  },
  {
   "cell_type": "markdown",
   "metadata": {},
   "source": [
    "Now run the experiment and observe the impact on the algorithm.  Report the results below."
   ]
  },
  {
   "cell_type": "markdown",
   "metadata": {},
   "source": [
    "TODO: answer here"
   ]
  },
  {
   "cell_type": "markdown",
   "metadata": {},
   "source": [
    "**4.3. [10pts] Design your own experiment.** Design a modification that you think would either increase or reduce performance.  A simple example (which you can use) is initializing the Q-table differently, and thinking about how this might alter performance. Write down your idea, what you think might happen, and why."
   ]
  },
  {
   "cell_type": "markdown",
   "metadata": {},
   "source": [
    "TODO: answer here"
   ]
  },
  {
   "cell_type": "markdown",
   "metadata": {},
   "source": [
    "Run the experiment and report the results."
   ]
  },
  {
   "cell_type": "markdown",
   "metadata": {},
   "source": [
    "TODO: answer here"
   ]
  },
  {
   "cell_type": "markdown",
   "metadata": {},
   "source": [
    "---\n",
    "\n",
    "## A. Extensions (optional)\n",
    "\n",
    "- plots your learning curve, using e.g., matplotlib \n",
    "- visualize the Q-table to see which values are being updated and not\n",
    "- design a better binning strategy that uses fewer bins for a better-performing policy\n",
    "- extend this approach to work on different environments (e.g., LunarLander-v2)\n",
    "- extend this approach to work on environments with continuous actions, by using a fixed set of discrete samples of the action space.  e.g., for Pendulum-v0\n",
    "- implement a simple deep learning version of this.  we will see next homework that DQN uses some tricks to make the neural network training more stable.  Experiment directly with simply replacing the Q-table with a Q-Network and train the Q-Network using gradient descent with `loss = (targets - Q(s,a))**2`, where `targets = stop_grad(R + gamma * maxa(Q(s,a))`)."
   ]
  },
  {
   "cell_type": "code",
   "execution_count": null,
   "metadata": {},
   "outputs": [],
   "source": []
  },
  {
   "cell_type": "code",
   "execution_count": null,
   "metadata": {},
   "outputs": [],
   "source": []
  },
  {
   "cell_type": "code",
   "execution_count": null,
   "metadata": {},
   "outputs": [],
   "source": []
  }
 ],
 "metadata": {
  "kernelspec": {
   "display_name": "Python 3",
   "language": "python",
   "name": "python3"
  },
  "language_info": {
   "codemirror_mode": {
    "name": "ipython",
    "version": 3
   },
   "file_extension": ".py",
   "mimetype": "text/x-python",
   "name": "python",
   "nbconvert_exporter": "python",
   "pygments_lexer": "ipython3",
   "version": "3.7.4"
  }
 },
 "nbformat": 4,
 "nbformat_minor": 2
}
