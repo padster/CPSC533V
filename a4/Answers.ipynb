{
 "cells": [
  {
   "cell_type": "markdown",
   "metadata": {},
   "source": [
    "# Answers to the homework, as python functions and comments\n",
    "\n",
    "Note that most of the provided files had a few tweaks for debugging or standardizing data types (e.g. device is forced to be CPU). Running the training/eval will likely require this copy of all files, rather than previously provided ones\n"
   ]
  },
  {
   "cell_type": "code",
   "execution_count": 1,
   "metadata": {},
   "outputs": [],
   "source": [
    "import sys\n",
    "import matplotlib.pyplot as plt\n",
    "import numpy as np\n",
    "\n",
    "from dataset import Dataset\n",
    "\n",
    "ENV_NAME = 'CartPole-v0'\n",
    "dataset = Dataset(data_path=\"{}_dataset.pkl\".format(ENV_NAME))"
   ]
  },
  {
   "cell_type": "code",
   "execution_count": 2,
   "metadata": {},
   "outputs": [],
   "source": [
    "# Given a history of observed states, plot historgrams for what values were observed along each dimension\n",
    "def _viewStatesHist(obsStates):\n",
    "    f, axes = plt.subplots(1, 4, figsize=(16, 6))\n",
    "    f.suptitle(\"Observed states:\")\n",
    "    for i, (ax, title) in enumerate(zip(axes, [\"x\", \"v\", \"θ\", \"ω\"])):\n",
    "        ax.hist(obsStates[:, i], log=True, bins=20)\n",
    "        ax.set_title(title)\n",
    "    plt.show()\n",
    "    # Also print min & max values, to calculate ranges:\n",
    "    print (\"Mins: \", np.min(obsStates, axis=0))\n",
    "    print (\"Maxs: \", np.max(obsStates, axis=0))"
   ]
  },
  {
   "cell_type": "markdown",
   "metadata": {},
   "source": [
    "# 1: Behavioural cloning\n",
    "\n",
    "### Q1.1 Dataset"
   ]
  },
  {
   "cell_type": "code",
   "execution_count": 10,
   "metadata": {},
   "outputs": [
    {
     "name": "stdout",
     "output_type": "stream",
     "text": [
      "99660 state/action pairs in the dataset\n"
     ]
    },
    {
     "data": {
      "image/png": "[encoded data removed]",
      "text/plain": [
       "<Figure size 1152x432 with 4 Axes>"
      ]
     },
     "metadata": {
      "needs_background": "light"
     },
     "output_type": "display_data"
    },
    {
     "name": "stdout",
     "output_type": "stream",
     "text": [
      "Mins:  [-0.72267057 -0.43303689 -0.05007198 -0.38122098]\n",
      "Maxs:  [2.39948596 1.84697975 0.14641718 0.47143314]\n",
      "\n",
      "Action 0 used 48555 times (48.72%), Action 1 used 51105 (51.28%)\n"
     ]
    },
    {
     "data": {
      "image/png": "[encoded data removed]",
      "text/plain": [
       "<Figure size 432x288 with 1 Axes>"
      ]
     },
     "metadata": {
      "needs_background": "light"
     },
     "output_type": "display_data"
    }
   ],
   "source": [
    "def a_1_1():\n",
    "    # How big is the dataset provided? 99660 state/action examples\n",
    "    n = len(dataset)\n",
    "    print (\"%d state/action pairs in the dataset\" % n)\n",
    "\n",
    "    states = np.zeros((len(dataset), 4))\n",
    "    actions = np.zeros((len(dataset), 1))\n",
    "    for i, data in enumerate(dataset):\n",
    "        states[i] = data['state']\n",
    "        actions[i] = data['action']\n",
    "        \n",
    "    # What are the dimensionalities and ranges of the state in the dataset \n",
    "    # (how much of the state space does the expert data cover)?\n",
    "    # 4D state, see histograms for converage of all the values.\n",
    "    _viewStatesHist(states)\n",
    "    \n",
    "    # 48.72% action 0, 51.28%\n",
    "    n0 = np.sum(actions == 0)\n",
    "    print (\"\\nAction 0 used %d times (%.2f%%), Action 1 used %d (%.2f%%)\" % (n0, 100 * (n0 / n), (n - n0), 100 * (n - n0) / n))\n",
    "    plt.hist(actions)\n",
    "    plt.show()\n",
    "    \n",
    "a_1_1()"
   ]
  },
  {
   "cell_type": "markdown",
   "metadata": {},
   "source": [
    "### Q1.2 Environment\n",
    "\n",
    "_Considering the full state and action spaces, do you think our expert dataset has good coverage? Why or why not? How might this affect or not affect the performance of our cloned policy?_\n",
    "\n",
    "The range is much smaller - x is mostly only positive, and the remainder have a much narrower range than allowed values (see a3 answers). Note that positive x isn't much of a problem as the environment is symmetric, so the dataset can be augmented by negating the entire state and flipping the action, however this would still not cover the more extreme cases. That said, as the environment is deterministic, a good clone can probably avoid having to get into the extreme values"
   ]
  },
  {
   "cell_type": "markdown",
   "metadata": {},
   "source": [
    "### Q1.3 Model\n",
    "\n",
    "_What is the input of the network?_  \n",
    "A Bx4 tensor of floats, representing a batch of state values\n",
    "\n",
    "_What is the output?_  \n",
    "A Bx2 tensor of floats, representing which of the 2 actions should be taken.  \n",
    "To convert to an action, take the index of the highest value, as higher values represented more confidence that a given action should be taken.\n",
    "\n",
    "The selected network is simple fully connected network with one hidden layer, of dimension 10."
   ]
  },
  {
   "cell_type": "markdown",
   "metadata": {},
   "source": [
    "## Q1.4 Training\n",
    "\n",
    "_Initializing the model_  \n",
    "Uses pytorch's default initialization: uniform random based on the model size.\n",
    "\n",
    "_Choosing a loss function_  \n",
    "CrossEntropyLoss is used - as the expert policy only picks a single action each time, we use cross entropy loss to better compare the distance between predicted (action 0, action 1) values, and the final picked (1, 0) or (0, 1)\n",
    "\n",
    "_Choosing an optimizer_  \n",
    "I picked the Adam optimizer, with learning rate 1e-4, simply because it seems an okay default and it worked, so no further tweaking was required.\n",
    "\n",
    "_Playing with hyperparameters to train your model._  \n",
    "Learning rate 1e-4 converted in about 20 epochs, increasing it (e.g. 1e-2) converged within the first few epochs, yet took some time to reach a consistent 200.0 score. Eventually 1e-3 was used, providing a balance between the two.\n",
    "\n",
    "_Did you manage to learn a good policy? How consistent is the reward you are getting?_  \n",
    "A model provided `behavioral_cloning_CartPole-v0.pt` consistently scored 200.0  \n"
   ]
  },
  {
   "cell_type": "markdown",
   "metadata": {},
   "source": [
    "# Task 2: Deep Q Learning\n",
    "\n",
    "### 2.0 Think about your model...\n",
    "\n",
    "_These two outputs, though, represent very different things. What is each one representing?_  \n",
    "In the case of behavioural cloning, the values are unit-free, passed through a softmax so (roughly) represent the probability/confidence in each action being the best, once normalized by the value of the other actions.  \n",
    "In the case of the deep Q network, the two values of the output are intended to exactly represent the Q values, i.e. the future (discounted) reward of performing each action given the state.\n",
    "\n",
    "### 2.1 Update your Q-function\n",
    "\n",
    "Updates can be seen in `optimize_model` within `dqn.py` - $y_i$ and $Q(\\phi_j, a_j; \\theta_j)$ are calculated using the provided equations, and the loss to minimize is set to the mean squared error of their distance.\n",
    "\n",
    "\n",
    "### 2.2 $\\epsilon$-greedy strategy\n",
    "\n",
    "Implemented in `choose_action` within `dqn.py`\n",
    "\n",
    "### 2.3 Train your model\n",
    "\n",
    "The initial model does not seem to train very well - initially it appears to get stuck in a situation where it very quickly terminates, but predicts these reward values very well. Increasing $\\epsilon$ helps it explore more states faster, but prediction of Q remains bad due to lack of training exapmles.\n",
    "\n",
    "### 2.4 Add the Experience Replay Buffer\n",
    "\n",
    "A version of `optimize_model` was added that uses batch updates based on history (when `USE_MEMORY = True`). This performs much better - after some tweaking of learning rate, a buffer size of 256 can be used to achieve average reward in the order of 50-100 after 4000 steps."
   ]
  },
  {
   "cell_type": "markdown",
   "metadata": {},
   "source": [
    "# Task 3: Extra\n",
    "\n",
    "Double DQN was implemented, using the `target` model that is copied from the updated model every `TARGET_UPDATE` episodes. By using this within `optimize_model`, the updates are stabilized a bit better.\n",
    "\n",
    "The algorithm appears very sensitive to learning rate, but by putting it conservatively lower, convergence to a maxed 200 reward is possible.\n",
    "\n",
    "Provided at `best_model_CartPole-v0.pt` in the zip is one example achieved of a final model that averges 200"
   ]
  },
  {
   "cell_type": "code",
   "execution_count": null,
   "metadata": {},
   "outputs": [],
   "source": []
  },
  {
   "cell_type": "code",
   "execution_count": null,
   "metadata": {},
   "outputs": [],
   "source": []
  }
 ],
 "metadata": {
  "kernelspec": {
   "display_name": "Python 3",
   "language": "python",
   "name": "python3"
  },
  "language_info": {
   "codemirror_mode": {
    "name": "ipython",
    "version": 3
   },
   "file_extension": ".py",
   "mimetype": "text/x-python",
   "name": "python",
   "nbconvert_exporter": "python",
   "pygments_lexer": "ipython3",
   "version": "3.6.7"
  }
 },
 "nbformat": 4,
 "nbformat_minor": 2
}
